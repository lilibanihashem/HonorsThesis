{
 "cells": [
  {
   "cell_type": "code",
   "execution_count": 1,
   "id": "a366f042",
   "metadata": {},
   "outputs": [],
   "source": [
    "import numpy as np\n",
    "import pandas as pd\n",
    "import seaborn as sns\n",
    "import matplotlib.pyplot as plt"
   ]
  },
  {
   "cell_type": "code",
   "execution_count": 2,
   "id": "bbbd3d38",
   "metadata": {},
   "outputs": [],
   "source": [
    "#loading data\n",
    "data = pd.read_csv(\"NSECEWorkforceData.csv\")"
   ]
  },
  {
   "cell_type": "markdown",
   "id": "4c20ad4d",
   "metadata": {},
   "source": [
    "## Dataset structure"
   ]
  },
  {
   "cell_type": "code",
   "execution_count": 3,
   "id": "a3848486",
   "metadata": {},
   "outputs": [
    {
     "data": {
      "text/plain": [
       "(5192, 179)"
      ]
     },
     "execution_count": 3,
     "metadata": {},
     "output_type": "execute_result"
    }
   ],
   "source": [
    "data.shape"
   ]
  },
  {
   "cell_type": "markdown",
   "id": "9e96c7b4",
   "metadata": {},
   "source": [
    "## Missing Data"
   ]
  },
  {
   "cell_type": "code",
   "execution_count": 4,
   "id": "47bdcf67",
   "metadata": {},
   "outputs": [],
   "source": [
    "#limiting data to where Y is defined\n",
    "y = data[\"WF9_CESD7_TOT\"]\n",
    "valid = y >= 0\n",
    "\n",
    "\n",
    "data = data[valid]"
   ]
  },
  {
   "cell_type": "code",
   "execution_count": 5,
   "id": "31e956d2",
   "metadata": {},
   "outputs": [],
   "source": [
    "#selecting variables\n",
    "variables = [\"WF9_WORK_YRS\", \"WF9_CAREER_EXPERIENCE\", \"WF9_CHAR_EDUC\", \"WF9_A19_HRS_SKILLS\", \"WF9_CAREER_UNION\", \"WF9_WORK_HRS_CAT\", \"WF9_WORK_WAGE\", \"WF9_WORK_MONTHS\", \"WF9_C1_MOSTOFTEN\", \"WF9_CL5_NUM_CHCLASS\", \"WF9_WORK_BEHAVIOR\", \"WF9_WORK_HELP_AVAILABLE\", \"WF9_WORK_RESPECT\", \"WF9_CHAR_GENDER\", \"WF9_CHAR_YEAR_BORN\", \"WF9_CHAR_HISP\", \"WF9_CHAR_RACE\", \"WF9_CHAR_COUNTRY_BORN\", \"WF9_CHAR_MARITAL\", \"WF9_CHAR_HHINCOME\", \"WF9_CHAR_GOVT_PRGM\", \"WF9_CHAR_HEALTH_INSRNCE\"]\n",
    "\n",
    "X = data[variables]\n",
    "Y = data[\"WF9_CESD7_TOT\"]\n",
    "\n",
    "Y_log = data[\"WF9_CESD7_CUT\"]"
   ]
  },
  {
   "cell_type": "code",
   "execution_count": 6,
   "id": "bbc4ab73",
   "metadata": {},
   "outputs": [
    {
     "name": "stdout",
     "output_type": "stream",
     "text": [
      "WF9_WORK_YRS % missing values: 0.0033061494379545957\n",
      "WF9_CAREER_EXPERIENCE % missing values: 0.008375578576151642\n",
      "WF9_CHAR_EDUC % missing values: 0.0019836896627727575\n",
      "WF9_A19_HRS_SKILLS % missing values: 0.014987877452060833\n",
      "WF9_CAREER_UNION % missing values: 0.00793475865109103\n",
      "WF9_WORK_HRS_CAT % missing values: 0.003967379325545515\n",
      "WF9_WORK_WAGE % missing values: 0.08133127617368305\n",
      "WF9_WORK_MONTHS % missing values: 0.01631033722724267\n",
      "WF9_C1_MOSTOFTEN % missing values: 0.970465065020939\n",
      "WF9_CL5_NUM_CHCLASS % missing values: 0.012342957901697156\n",
      "WF9_WORK_BEHAVIOR % missing values: 0.013445007714348688\n",
      "WF9_WORK_HELP_AVAILABLE % missing values: 0.00969803835133348\n",
      "WF9_WORK_RESPECT % missing values: 0.00484901917566674\n",
      "WF9_CHAR_GENDER % missing values: 0.0028653295128939827\n",
      "WF9_CHAR_YEAR_BORN % missing values: 0.027771655278818603\n",
      "WF9_CHAR_HISP % missing values: 0.014767467489530527\n",
      "WF9_CHAR_RACE % missing values: 0.08551906546175887\n",
      "WF9_CHAR_COUNTRY_BORN % missing values: 0.011461318051575931\n",
      "WF9_CHAR_MARITAL % missing values: 0.02005730659025788\n",
      "WF9_CHAR_HHINCOME % missing values: 0.11902137976636544\n",
      "WF9_CHAR_GOVT_PRGM % missing values: 0.020718536477848798\n",
      "WF9_CHAR_HEALTH_INSRNCE % missing values: 0.004187789288075821\n"
     ]
    }
   ],
   "source": [
    "for variable in variables:\n",
    "    missing = X[variable] < 0\n",
    "    count = sum(missing)\n",
    "    print(variable + \" % missing values: \" + str(count/data.shape[0]))"
   ]
  },
  {
   "cell_type": "markdown",
   "id": "dc91dcfc",
   "metadata": {},
   "source": [
    "### Missing Values Exploration\n",
    "\n",
    "WF9_WORK_YRS: values of -1 (refuse/idk)\n",
    "\n",
    "WF9_CAREER_EXPERIENCE: values of -1 (refuse/idk)\n",
    "\n",
    "WF9_CHAR_EDUC: -1 (refuse/idk)\n",
    "\n",
    "HRS_SKILLS: -1 (refuse/idk)\n",
    "\n",
    "CAREER_UNION: -1 (refuse/idk)\n",
    "\n",
    "WORK_HRS_CAT: -1 (refuse/idk)\n",
    "\n",
    "WORK_WAGE: -1 (not enough info)\n",
    "\n",
    "WORK_MONTHS: -1 (refuse/idk)\n",
    "\n",
    "MOSTOFTEN: -2 (valid skip) **take out variable**\n",
    "\n",
    "NUM_CHCLASS: -3(refuse/idk)\n",
    "\n",
    "WORK_BEHAVIOR: -1 (refuse/idk)\n",
    "\n",
    "WORK_HELP: -1 (refuse/idk)\n",
    "\n",
    "WORK_RESPECT: -1 (refuse/idk)\n",
    "\n",
    "CHAR_GENDER: -1 (refuse/idk)\n",
    "\n",
    "YEAR_BORN: -1 (refuse/idk)\n",
    "\n",
    "CHAR_HISP: -1 (refuse/idk)\n",
    "\n",
    "CHAR_RACE: -1 (refuse/idk)\n",
    "\n",
    "CHAR_COUNTRY_BORN: -1 (refuse/idk)\n",
    "\n",
    "MARITAL: -1 (refuse/idk)\n",
    "\n",
    "INCOME: -1 (refuse/idk)\n",
    "\n",
    "GOVT_PROGRAM: (refuse/idk)"
   ]
  },
  {
   "cell_type": "code",
   "execution_count": 7,
   "id": "0ef47f72",
   "metadata": {},
   "outputs": [],
   "source": [
    "WageValid = X[\"WF9_WORK_WAGE\"] > 0\n",
    "\n",
    "X = X[WageValid]\n",
    "Y = Y[WageValid]\n",
    "Y_log = Y_log[WageValid]"
   ]
  },
  {
   "cell_type": "code",
   "execution_count": 8,
   "id": "db9187fb",
   "metadata": {},
   "outputs": [],
   "source": [
    "variables = [\"WF9_WORK_YRS\", \"WF9_CAREER_EXPERIENCE\", \"WF9_CHAR_EDUC\", \"WF9_A19_HRS_SKILLS\", \"WF9_CAREER_UNION\", \"WF9_WORK_HRS_CAT\", \"WF9_WORK_WAGE\", \"WF9_WORK_MONTHS\", \"WF9_CL5_NUM_CHCLASS\", \"WF9_WORK_BEHAVIOR\", \"WF9_WORK_HELP_AVAILABLE\", \"WF9_WORK_RESPECT\", \"WF9_CHAR_GENDER\", \"WF9_CHAR_YEAR_BORN\", \"WF9_CHAR_HISP\", \"WF9_CHAR_RACE\", \"WF9_CHAR_COUNTRY_BORN\", \"WF9_CHAR_MARITAL\", \"WF9_CHAR_HHINCOME\", \"WF9_CHAR_GOVT_PRGM\", \"WF9_CHAR_HEALTH_INSRNCE\"]\n",
    "X = X[variables]\n",
    "#took out: \"WF9_DIS_HHCB_C\" (doesn't seem very relevant and only one with missing values), \"WF9_C1_MOSTOFTEN_M\" (not relevant and mostly invalid), "
   ]
  },
  {
   "cell_type": "markdown",
   "id": "2059affc",
   "metadata": {},
   "source": [
    "## Data Types"
   ]
  },
  {
   "cell_type": "code",
   "execution_count": 9,
   "id": "a3a3ea73",
   "metadata": {
    "scrolled": true
   },
   "outputs": [
    {
     "name": "stdout",
     "output_type": "stream",
     "text": [
      "WF9_WORK_YRS: int64\n",
      "WF9_CAREER_EXPERIENCE: int64\n",
      "WF9_CHAR_EDUC: int64\n",
      "WF9_A19_HRS_SKILLS: int64\n",
      "WF9_CAREER_UNION: int64\n",
      "WF9_WORK_HRS_CAT: int64\n",
      "WF9_WORK_WAGE: float64\n",
      "WF9_WORK_MONTHS: int64\n",
      "WF9_CL5_NUM_CHCLASS: int64\n",
      "WF9_WORK_BEHAVIOR: int64\n",
      "WF9_WORK_HELP_AVAILABLE: int64\n",
      "WF9_WORK_RESPECT: int64\n",
      "WF9_CHAR_GENDER: int64\n",
      "WF9_CHAR_YEAR_BORN: int64\n",
      "WF9_CHAR_HISP: int64\n",
      "WF9_CHAR_RACE: int64\n",
      "WF9_CHAR_COUNTRY_BORN: int64\n",
      "WF9_CHAR_MARITAL: int64\n",
      "WF9_CHAR_HHINCOME: int64\n",
      "WF9_CHAR_GOVT_PRGM: int64\n",
      "WF9_CHAR_HEALTH_INSRNCE: int64\n"
     ]
    }
   ],
   "source": [
    "#Checking Data Types\n",
    "for variable in variables:\n",
    "    print(variable + \": \" + str(data[variable].dtype))"
   ]
  },
  {
   "cell_type": "code",
   "execution_count": 10,
   "id": "218f078c",
   "metadata": {},
   "outputs": [],
   "source": [
    "data[WageValid][[\"WF9_WORK_YRS\", \"WF9_CAREER_EXPERIENCE\", \"WF9_CHAR_EDUC\", \"WF9_A19_HRS_SKILLS\", \"WF9_CAREER_UNION\", \"WF9_WORK_HRS_CAT\", \"WF9_WORK_WAGE\", \"WF9_WORK_MONTHS\", \"WF9_CL5_NUM_CHCLASS\", \"WF9_WORK_BEHAVIOR\", \"WF9_WORK_HELP_AVAILABLE\", \"WF9_WORK_RESPECT\", \"WF9_CHAR_GENDER\", \"WF9_CHAR_YEAR_BORN\", \"WF9_CHAR_HISP\", \"WF9_CHAR_RACE\", \"WF9_CHAR_COUNTRY_BORN\", \"WF9_CHAR_MARITAL\", \"WF9_CHAR_HHINCOME\", \"WF9_CHAR_GOVT_PRGM\", \"WF9_CHAR_HEALTH_INSRNCE\", \"WF9_CESD7_CUT\"]].to_csv(\"beforedummies\")"
   ]
  },
  {
   "cell_type": "markdown",
   "id": "8d6f98bc",
   "metadata": {},
   "source": [
    "## Features"
   ]
  },
  {
   "cell_type": "code",
   "execution_count": 11,
   "id": "f972eba6",
   "metadata": {},
   "outputs": [
    {
     "data": {
      "text/plain": [
       "[True, True, False]"
      ]
     },
     "execution_count": 11,
     "metadata": {},
     "output_type": "execute_result"
    }
   ],
   "source": [
    "[x == 1 or x ==2 for x in np.array([1,2,3])]"
   ]
  },
  {
   "cell_type": "code",
   "execution_count": 12,
   "id": "c13b5871",
   "metadata": {
    "scrolled": false
   },
   "outputs": [],
   "source": [
    "#Making Dummies\n",
    "Output = X\n",
    "\n",
    "#Race\n",
    "#Output[\"RACE_R\"] = [int(x) for x in Output[\"WF9_CHAR_RACE\"] == -1]\n",
    "Output[\"RACE_W\"] = [int(x) for x in Output[\"WF9_CHAR_RACE\"] == 1]\n",
    "Output[\"RACE_B\"] = [int(x) for x in Output[\"WF9_CHAR_RACE\"] == 2]\n",
    "Output[\"RACE_A\"] = [int(x) for x in Output[\"WF9_CHAR_RACE\"] == 3]\n",
    "Output[\"RACE_O\"] = [int(x) for x in Output[\"WF9_CHAR_RACE\"] == 8]\n",
    "\n",
    "#Union\n",
    "#Output[\"UNION_R\"] = [int(x) for x in Output[\"WF9_CAREER_UNION\"] == -1]\n",
    "Output[\"UNION_Y\"] = [int(x) for x in Output[\"WF9_CAREER_UNION\"] == 1]\n",
    "Output[\"UNION_N\"] = [int(x) for x in Output[\"WF9_CAREER_UNION\"] == 2]\n",
    "\n",
    "#Hisp\n",
    "#Output[\"HISP_R\"] = [int(x) for x in Output[\"WF9_CHAR_HISP\"] == -1]\n",
    "Output[\"HISP_Y\"] = [int(x) for x in Output[\"WF9_CHAR_HISP\"] == 1]\n",
    "Output[\"HISP_N\"] = [int(x) for x in Output[\"WF9_CHAR_HISP\"] == 2]\n",
    "\n",
    "#Country Born\n",
    "#Output[\"COUNTRY_BORN_R\"] = [int(x) for x in Output[\"WF9_CHAR_COUNTRY_BORN\"] == -1]\n",
    "Output[\"COUNTRY_BORN_US\"] = [int(x) for x in Output[\"WF9_CHAR_COUNTRY_BORN\"] == 1]\n",
    "Output[\"COUNTRY_BORN_MEX\"] = [int(x) for x in Output[\"WF9_CHAR_COUNTRY_BORN\"] == 2]\n",
    "Output[\"COUNTRY_BORN_O\"] = [int(x) for x in Output[\"WF9_CHAR_COUNTRY_BORN\"] == 3]\n",
    "\n",
    "#Marital\n",
    "#Output[\"MARITAL_R\"] = [int(x) for x in Output[\"WF9_CHAR_MARITAL\"] == -1]\n",
    "Output[\"MARITAL_NEVER_MARRIED\"] = [int(x) for x in Output[\"WF9_CHAR_MARITAL\"] == 1]\n",
    "Output[\"MARITAL_MARRIED\"] = [int(x) for x in Output[\"WF9_CHAR_MARITAL\"] == 2]\n",
    "Output[\"MARITAL_SEPARATED\"] = [int(x) for x in Output[\"WF9_CHAR_MARITAL\"] == 3]\n",
    "Output[\"MARITAL_DIVORCED\"] = [int(x) for x in Output[\"WF9_CHAR_MARITAL\"] == 4]\n",
    "\n",
    "#Govt Program\n",
    "#Output[\"GOVT_PRGM_R\"] = [int(x) for x in Output[\"WF9_CHAR_GOVT_PRGM\"] == -1]\n",
    "Output[\"GOVT_PRGM_Y\"] = [int(x) for x in Output[\"WF9_CHAR_GOVT_PRGM\"] == 1]\n",
    "Output[\"GOVT_PRGM_N\"] = [int(x) for x in Output[\"WF9_CHAR_GOVT_PRGM\"] == 2]\n",
    "\n",
    "#Health Insurance\n",
    "#Output[\"HEALTH_INSRNCE_R\"] = [int(x) for x in Output[\"WF9_CHAR_HEALTH_INSRNCE\"] == -1]\n",
    "Output[\"HEALTH_INSRNCE_NONE\"] = [int(x) for x in Output[\"WF9_CHAR_HEALTH_INSRNCE\"] == 1]\n",
    "Output[\"HEALTH_INSRNCE_EMPLOYER\"] = [int(x) for x in [y == 2 or y == 3 for y in Output[\"WF9_CHAR_HEALTH_INSRNCE\"]]]\n",
    "Output[\"HEALTH_INSRNCE_SPOUSE\"] = [int(x) for x in Output[\"WF9_CHAR_HEALTH_INSRNCE\"] == 4]\n",
    "Output[\"HEALTH_INSRNCE_DIRECT\"] = [int(x) for x in Output[\"WF9_CHAR_HEALTH_INSRNCE\"] == 5]\n",
    "Output[\"HEALTH_INSRNCE_GOVT\"] = [int(x) for x in Output[\"WF9_CHAR_HEALTH_INSRNCE\"] == 6]\n",
    "Output[\"HEALTH_INSRNCE_MEDI\"] = [int(x) for x in Output[\"WF9_CHAR_HEALTH_INSRNCE\"] == 7]\n",
    "Output[\"HEALTH_INSRNCE_OTHER\"] = [int(x) for x in Output[\"WF9_CHAR_HEALTH_INSRNCE\"] == 8]\n",
    "\n",
    "#Gender\n",
    "#Output[\"WF9_CHAR_GENDER_R\"] = [int(x) for x in Output[\"WF9_CHAR_GENDER\"] == -1]\n",
    "Output[\"WF9_CHAR_GENDER_M\"] = [int(x) for x in Output[\"WF9_CHAR_GENDER\"] == 1]\n",
    "Output[\"WF9_CHAR_GENDER_F\"] = [int(x) for x in Output[\"WF9_CHAR_GENDER\"] == 2]\n",
    "\n",
    "\n",
    "#Refuse to Answer Columns\n",
    "variables_r =  [\"WF9_WORK_YRS\", \"WF9_CAREER_EXPERIENCE\", \"WF9_CHAR_EDUC\", \"WF9_A19_HRS_SKILLS\", \"WF9_WORK_HRS_CAT\", \"WF9_WORK_MONTHS\", \"WF9_WORK_BEHAVIOR\", \"WF9_WORK_HELP_AVAILABLE\", \"WF9_WORK_RESPECT\", \"WF9_CHAR_YEAR_BORN\", \"WF9_CHAR_HHINCOME\"]\n",
    "for var in variables_r:\n",
    "    Output[var + \"_R\"] = [int(x) for x in Output[var] == -1]\n",
    "\n",
    "\n",
    "Output = Output.drop([\"WF9_CAREER_UNION\", \"WF9_CHAR_RACE\", \"WF9_CHAR_HISP\", \"WF9_CHAR_GOVT_PRGM\", \"WF9_CHAR_COUNTRY_BORN\", \"WF9_CHAR_MARITAL\", \"WF9_CHAR_HEALTH_INSRNCE\", \"WF9_CHAR_GENDER\"], axis = 1)"
   ]
  },
  {
   "cell_type": "code",
   "execution_count": 13,
   "id": "2d4e4f4d",
   "metadata": {
    "scrolled": true
   },
   "outputs": [
    {
     "name": "stdout",
     "output_type": "stream",
     "text": [
      "WF9_WORK_YRS 9\n",
      "WF9_CAREER_EXPERIENCE 28\n",
      "WF9_CHAR_EDUC 6\n",
      "WF9_A19_HRS_SKILLS 54\n",
      "WF9_WORK_HRS_CAT 13\n",
      "WF9_WORK_MONTHS 57\n",
      "WF9_WORK_BEHAVIOR 49\n",
      "WF9_WORK_HELP_AVAILABLE 40\n",
      "WF9_WORK_RESPECT 17\n",
      "WF9_CHAR_YEAR_BORN 75\n",
      "WF9_CHAR_HHINCOME 362\n"
     ]
    }
   ],
   "source": [
    "for var in variables_r:\n",
    "    print(str(var) + \" \" + str(sum(Output[var + \"_R\"])))\n"
   ]
  },
  {
   "cell_type": "markdown",
   "id": "2a27ffe8",
   "metadata": {},
   "source": [
    "## Finalizing Tables"
   ]
  },
  {
   "cell_type": "code",
   "execution_count": 14,
   "id": "db45d73f",
   "metadata": {},
   "outputs": [],
   "source": [
    "Output_log = Output.copy()\n",
    "\n",
    "#Adding Y to tables so entire table is together\n",
    "Output[\"WF9_CESD7_TOT\"] = Y\n",
    "Output_log[\"WF9_CESD7_CUT\"] = Y_log"
   ]
  },
  {
   "cell_type": "markdown",
   "id": "f65b862a",
   "metadata": {},
   "source": [
    "## Export"
   ]
  },
  {
   "cell_type": "code",
   "execution_count": 15,
   "id": "48ab41e9",
   "metadata": {},
   "outputs": [],
   "source": [
    "Output.to_csv(\"Cleaning_Output\", index = False)\n",
    "Output_log.to_csv(\"Cleaning_Output_Log\", index = False)"
   ]
  },
  {
   "cell_type": "code",
   "execution_count": null,
   "id": "0289cee3",
   "metadata": {},
   "outputs": [],
   "source": []
  }
 ],
 "metadata": {
  "kernelspec": {
   "display_name": "Python 3 (ipykernel)",
   "language": "python",
   "name": "python3"
  },
  "language_info": {
   "codemirror_mode": {
    "name": "ipython",
    "version": 3
   },
   "file_extension": ".py",
   "mimetype": "text/x-python",
   "name": "python",
   "nbconvert_exporter": "python",
   "pygments_lexer": "ipython3",
   "version": "3.9.15"
  }
 },
 "nbformat": 4,
 "nbformat_minor": 5
}
