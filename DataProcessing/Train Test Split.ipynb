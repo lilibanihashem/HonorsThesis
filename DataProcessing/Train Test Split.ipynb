{
 "cells": [
  {
   "cell_type": "code",
   "execution_count": null,
   "id": "476f354d",
   "metadata": {},
   "outputs": [],
   "source": [
    "import numpy as np\n",
    "import pandas as pd\n",
    "import seaborn as sns\n",
    "from sklearn.model_selection import train_test_split\n",
    "import statsmodels.api as sm\n"
   ]
  },
  {
   "cell_type": "markdown",
   "id": "dd343e3c",
   "metadata": {},
   "source": [
    "## Train, Development, Test\n",
    "\n",
    "Splitting data into three groups: train for model training, development for model adjustment, and test for final evaluation."
   ]
  },
  {
   "cell_type": "markdown",
   "id": "5629d401",
   "metadata": {},
   "source": [
    "### Linear Regression"
   ]
  },
  {
   "cell_type": "code",
   "execution_count": null,
   "id": "4222be81",
   "metadata": {},
   "outputs": [],
   "source": [
    "data = pd.read_csv(\"Cleaning_Output\")"
   ]
  },
  {
   "cell_type": "code",
   "execution_count": null,
   "id": "a8760003",
   "metadata": {},
   "outputs": [],
   "source": [
    "#Initial Split\n",
    "train_X, test_X, train_Y, test_Y = train_test_split(data.drop([\"WF9_CESD7_TOT\"], axis = 1), data[\"WF9_CESD7_TOT\"], test_size=0.20, random_state=88)"
   ]
  },
  {
   "cell_type": "code",
   "execution_count": null,
   "id": "b381c7ac",
   "metadata": {},
   "outputs": [],
   "source": [
    "#Splitting test into test and development data\n",
    "test_X, dev_X, test_Y, dev_Y = train_test_split(test_X, test_Y, test_size = 0.5, random_state = 88)"
   ]
  },
  {
   "cell_type": "code",
   "execution_count": null,
   "id": "29b5afbc",
   "metadata": {},
   "outputs": [],
   "source": [
    "train_X.to_csv(\"train_X\", index = False)\n",
    "train_Y.to_csv(\"train_Y\", index = False)\n",
    "\n",
    "test_X.to_csv(\"test_X\", index = False)\n",
    "test_Y.to_csv(\"test_Y\", index = False)\n",
    "\n",
    "dev_X.to_csv(\"dev_X\", index = False)\n",
    "dev_Y.to_csv(\"dev_Y\", index = False)"
   ]
  },
  {
   "cell_type": "markdown",
   "id": "b37204a5",
   "metadata": {},
   "source": [
    "### Logistic Regression"
   ]
  },
  {
   "cell_type": "code",
   "execution_count": null,
   "id": "ff912ab0",
   "metadata": {},
   "outputs": [],
   "source": [
    "data = pd.read_csv(\"Cleaning_Output_Log\")"
   ]
  },
  {
   "cell_type": "code",
   "execution_count": null,
   "id": "40180b88",
   "metadata": {},
   "outputs": [],
   "source": [
    "#Initial Split\n",
    "train_X, test_X, train_Y, test_Y = train_test_split(data.drop([\"WF9_CESD7_CUT\"], axis = 1), data[\"WF9_CESD7_CUT\"], test_size=0.20, random_state=88)"
   ]
  },
  {
   "cell_type": "code",
   "execution_count": null,
   "id": "b0b1f9b6",
   "metadata": {},
   "outputs": [],
   "source": [
    "#Splitting test into test and development data\n",
    "test_X, dev_X, test_Y, dev_Y = train_test_split(test_X, test_Y, test_size = 0.5, random_state = 88)"
   ]
  },
  {
   "cell_type": "code",
   "execution_count": null,
   "id": "d9d79060",
   "metadata": {},
   "outputs": [],
   "source": [
    "train_X.to_csv(\"train_X_CUT\", index = False)\n",
    "train_Y.to_csv(\"train_Y_CUT\", index = False)\n",
    "\n",
    "test_X.to_csv(\"test_X_CUT\", index = False)\n",
    "test_Y.to_csv(\"test_Y_CUT\", index = False)\n",
    "\n",
    "dev_X.to_csv(\"dev_X_CUT\", index = False)\n",
    "dev_Y.to_csv(\"dev_Y_CUT\", index = False)"
   ]
  },
  {
   "cell_type": "code",
   "execution_count": null,
   "id": "feffb166",
   "metadata": {},
   "outputs": [],
   "source": []
  },
  {
   "cell_type": "code",
   "execution_count": null,
   "id": "d85a5bb9",
   "metadata": {},
   "outputs": [],
   "source": [
    "sum(test_Y)"
   ]
  },
  {
   "cell_type": "code",
   "execution_count": null,
   "id": "64efa092",
   "metadata": {},
   "outputs": [],
   "source": [
    "sum(train_Y)/train_Y.size"
   ]
  },
  {
   "cell_type": "code",
   "execution_count": null,
   "id": "ab376126",
   "metadata": {},
   "outputs": [],
   "source": []
  }
 ],
 "metadata": {
  "kernelspec": {
   "display_name": "Python 3 (ipykernel)",
   "language": "python",
   "name": "python3"
  },
  "language_info": {
   "codemirror_mode": {
    "name": "ipython",
    "version": 3
   },
   "file_extension": ".py",
   "mimetype": "text/x-python",
   "name": "python",
   "nbconvert_exporter": "python",
   "pygments_lexer": "ipython3",
   "version": "3.9.15"
  }
 },
 "nbformat": 4,
 "nbformat_minor": 5
}
