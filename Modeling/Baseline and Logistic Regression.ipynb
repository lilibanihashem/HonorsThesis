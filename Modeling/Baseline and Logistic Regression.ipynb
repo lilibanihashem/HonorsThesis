{
 "cells": [
  {
   "cell_type": "code",
   "execution_count": 37,
   "id": "a1ef49aa",
   "metadata": {},
   "outputs": [],
   "source": [
    "import numpy as np\n",
    "import pandas as pd\n",
    "import statsmodels.api as sm\n",
    "import matplotlib.pyplot as plt\n",
    "import plotly.express as px\n",
    "\n",
    "\n",
    "from sklearn.linear_model import LogisticRegression\n",
    "from sklearn.metrics import confusion_matrix, roc_curve, auc, roc_auc_score\n",
    "from statsmodels.stats.outliers_influence import variance_inflation_factor\n"
   ]
  },
  {
   "cell_type": "code",
   "execution_count": 38,
   "id": "7d0b7329",
   "metadata": {},
   "outputs": [],
   "source": [
    "#Reading in data\n",
    "\n",
    "data = pd.read_csv(\"Cleaning_Output\")\n",
    "train_X, train_Y = pd.read_csv(\"train_X_CUT\"), pd.read_csv(\"train_Y_CUT\")[\"WF9_CESD7_CUT\"]\n",
    "dev_X, dev_Y = pd.read_csv(\"dev_X_CUT\"), pd.read_csv(\"dev_Y_CUT\")[\"WF9_CESD7_CUT\"]\n",
    "test_X, test_Y = pd.read_csv(\"test_X_CUT\"), pd.read_csv(\"test_Y_CUT\")[\"WF9_CESD7_CUT\"]"
   ]
  },
  {
   "cell_type": "code",
   "execution_count": 39,
   "id": "4bb98588",
   "metadata": {},
   "outputs": [
    {
     "data": {
      "text/plain": [
       "(3331, 71)"
      ]
     },
     "execution_count": 39,
     "metadata": {},
     "output_type": "execute_result"
    }
   ],
   "source": [
    "train_X.shape"
   ]
  },
  {
   "cell_type": "markdown",
   "id": "cf6a3143",
   "metadata": {},
   "source": [
    "### Metrics\n",
    "\n",
    "1. TPR\n",
    "2. FPR\n",
    "3. Precision\n",
    "4. Accuracy"
   ]
  },
  {
   "cell_type": "code",
   "execution_count": 40,
   "id": "e0d3ba90",
   "metadata": {},
   "outputs": [],
   "source": [
    "def showmetrics(pred, true):\n",
    "    cm = confusion_matrix(true, pred)\n",
    "    acc = (cm.ravel()[0]+cm.ravel()[3])/sum(cm.ravel())\n",
    "    TPR = cm.ravel()[3]/(cm.ravel()[3]+cm.ravel()[2])\n",
    "    FPR = cm.ravel()[1]/(cm.ravel()[1]+cm.ravel()[0])\n",
    "    prec = cm.ravel()[3]/(cm.ravel()[3]+cm.ravel()[1])\n",
    "    f1 = 2*((prec*TPR)/(prec+TPR))\n",
    "\n",
    "    print(cm)\n",
    "    print(\"Model TPR: \" + str(TPR))\n",
    "    print(\"Model FPR: \" + str(FPR))\n",
    "    print(\"Model F1: \" + str(f1))\n",
    "    print(\"Model Precision: \" + str(prec))\n",
    "    print(\"Model Accuracy: \" + str(acc))\n",
    "    return acc, TPR, FPR, f1, prec"
   ]
  },
  {
   "cell_type": "markdown",
   "id": "0b5acfa9",
   "metadata": {},
   "source": [
    "## Baseline"
   ]
  },
  {
   "cell_type": "code",
   "execution_count": 41,
   "id": "abab6278",
   "metadata": {},
   "outputs": [
    {
     "name": "stdout",
     "output_type": "stream",
     "text": [
      "[[386   0]\n",
      " [ 30   0]]\n",
      "Model TPR: 0.0\n",
      "Model FPR: 0.0\n",
      "Model F1: nan\n",
      "Model Precision: nan\n",
      "Model Accuracy: 0.9278846153846154\n"
     ]
    },
    {
     "name": "stderr",
     "output_type": "stream",
     "text": [
      "/opt/conda/lib/python3.9/site-packages/sklearn/linear_model/_logistic.py:444: ConvergenceWarning:\n",
      "\n",
      "lbfgs failed to converge (status=1):\n",
      "STOP: TOTAL NO. of ITERATIONS REACHED LIMIT.\n",
      "\n",
      "Increase the number of iterations (max_iter) or scale the data as shown in:\n",
      "    https://scikit-learn.org/stable/modules/preprocessing.html\n",
      "Please also refer to the documentation for alternative solver options:\n",
      "    https://scikit-learn.org/stable/modules/linear_model.html#logistic-regression\n",
      "\n",
      "/tmp/ipykernel_30/2601468214.py:6: RuntimeWarning:\n",
      "\n",
      "invalid value encountered in long_scalars\n",
      "\n"
     ]
    },
    {
     "data": {
      "text/plain": [
       "(0.9278846153846154, 0.0, 0.0, nan, nan)"
      ]
     },
     "execution_count": 41,
     "metadata": {},
     "output_type": "execute_result"
    }
   ],
   "source": [
    "model = LogisticRegression()\n",
    "model.fit(train_X, train_Y)\n",
    "\n",
    "pred_base = [0 for x in model.predict(test_X)]\n",
    "\n",
    "showmetrics(pred_base, test_Y)"
   ]
  },
  {
   "cell_type": "markdown",
   "id": "196df383",
   "metadata": {},
   "source": [
    "## Training Model"
   ]
  },
  {
   "cell_type": "code",
   "execution_count": 42,
   "id": "8b0c505b",
   "metadata": {},
   "outputs": [],
   "source": [
    "train_X = sm.add_constant(train_X)\n",
    "dev_X = sm.add_constant(dev_X)"
   ]
  },
  {
   "cell_type": "code",
   "execution_count": 43,
   "id": "6f65cd7b",
   "metadata": {
    "scrolled": true
   },
   "outputs": [
    {
     "name": "stdout",
     "output_type": "stream",
     "text": [
      "Warning: Maximum number of iterations has been exceeded.\n",
      "         Current function value: 0.233971\n",
      "         Iterations: 35\n"
     ]
    },
    {
     "name": "stderr",
     "output_type": "stream",
     "text": [
      "/opt/conda/lib/python3.9/site-packages/statsmodels/base/model.py:604: ConvergenceWarning:\n",
      "\n",
      "Maximum Likelihood optimization failed to converge. Check mle_retvals\n",
      "\n"
     ]
    }
   ],
   "source": [
    "model = sm.Logit(train_Y, train_X).fit()"
   ]
  },
  {
   "cell_type": "code",
   "execution_count": 44,
   "id": "dcfcd1df",
   "metadata": {
    "scrolled": false
   },
   "outputs": [
    {
     "data": {
      "text/html": [
       "<table class=\"simpletable\">\n",
       "<caption>Logit Regression Results</caption>\n",
       "<tr>\n",
       "  <th>Dep. Variable:</th>     <td>WF9_CESD7_CUT</td>  <th>  No. Observations:  </th>  <td>  3331</td>  \n",
       "</tr>\n",
       "<tr>\n",
       "  <th>Model:</th>                 <td>Logit</td>      <th>  Df Residuals:      </th>  <td>  3259</td>  \n",
       "</tr>\n",
       "<tr>\n",
       "  <th>Method:</th>                 <td>MLE</td>       <th>  Df Model:          </th>  <td>    71</td>  \n",
       "</tr>\n",
       "<tr>\n",
       "  <th>Date:</th>            <td>Thu, 04 May 2023</td> <th>  Pseudo R-squ.:     </th>  <td>0.1831</td>  \n",
       "</tr>\n",
       "<tr>\n",
       "  <th>Time:</th>                <td>21:47:27</td>     <th>  Log-Likelihood:    </th> <td> -779.36</td> \n",
       "</tr>\n",
       "<tr>\n",
       "  <th>converged:</th>             <td>False</td>      <th>  LL-Null:           </th> <td> -954.05</td> \n",
       "</tr>\n",
       "<tr>\n",
       "  <th>Covariance Type:</th>     <td>nonrobust</td>    <th>  LLR p-value:       </th> <td>2.209e-38</td>\n",
       "</tr>\n",
       "</table>\n",
       "<table class=\"simpletable\">\n",
       "<tr>\n",
       "                   <td></td>                     <th>coef</th>     <th>std err</th>      <th>z</th>      <th>P>|z|</th>  <th>[0.025</th>    <th>0.975]</th>  \n",
       "</tr>\n",
       "<tr>\n",
       "  <th>const</th>                              <td>   -7.2943</td> <td>    1.030</td> <td>   -7.082</td> <td> 0.000</td> <td>   -9.313</td> <td>   -5.276</td>\n",
       "</tr>\n",
       "<tr>\n",
       "  <th>WF9_WORK_YRS</th>                       <td>   -0.0703</td> <td>    0.022</td> <td>   -3.269</td> <td> 0.001</td> <td>   -0.112</td> <td>   -0.028</td>\n",
       "</tr>\n",
       "<tr>\n",
       "  <th>WF9_CAREER_EXPERIENCE</th>              <td>    0.0055</td> <td>    0.054</td> <td>    0.102</td> <td> 0.919</td> <td>   -0.101</td> <td>    0.112</td>\n",
       "</tr>\n",
       "<tr>\n",
       "  <th>WF9_CHAR_EDUC</th>                      <td>   -0.0653</td> <td>    0.056</td> <td>   -1.160</td> <td> 0.246</td> <td>   -0.176</td> <td>    0.045</td>\n",
       "</tr>\n",
       "<tr>\n",
       "  <th>WF9_A19_HRS_SKILLS</th>                 <td>   -0.0471</td> <td>    0.056</td> <td>   -0.845</td> <td> 0.398</td> <td>   -0.156</td> <td>    0.062</td>\n",
       "</tr>\n",
       "<tr>\n",
       "  <th>WF9_WORK_HRS_CAT</th>                   <td>    0.0396</td> <td>    0.050</td> <td>    0.792</td> <td> 0.428</td> <td>   -0.058</td> <td>    0.138</td>\n",
       "</tr>\n",
       "<tr>\n",
       "  <th>WF9_WORK_MONTHS</th>                    <td>    0.0169</td> <td>    0.025</td> <td>    0.665</td> <td> 0.506</td> <td>   -0.033</td> <td>    0.067</td>\n",
       "</tr>\n",
       "<tr>\n",
       "  <th>WF9_WORK_BEHAVIOR</th>                  <td>    0.5724</td> <td>    0.105</td> <td>    5.461</td> <td> 0.000</td> <td>    0.367</td> <td>    0.778</td>\n",
       "</tr>\n",
       "<tr>\n",
       "  <th>WF9_WORK_HELP_AVAILABLE</th>            <td>    0.2001</td> <td>    0.072</td> <td>    2.774</td> <td> 0.006</td> <td>    0.059</td> <td>    0.342</td>\n",
       "</tr>\n",
       "<tr>\n",
       "  <th>WF9_WORK_RESPECT</th>                   <td>    0.4466</td> <td>    0.072</td> <td>    6.178</td> <td> 0.000</td> <td>    0.305</td> <td>    0.588</td>\n",
       "</tr>\n",
       "<tr>\n",
       "  <th>WF9_CHAR_HHINCOME</th>                  <td>   -0.0757</td> <td>    0.062</td> <td>   -1.218</td> <td> 0.223</td> <td>   -0.198</td> <td>    0.046</td>\n",
       "</tr>\n",
       "<tr>\n",
       "  <th>WF9_WORK_PRNTS_TALK</th>                <td>    0.3518</td> <td>    0.101</td> <td>    3.489</td> <td> 0.000</td> <td>    0.154</td> <td>    0.550</td>\n",
       "</tr>\n",
       "<tr>\n",
       "  <th>WF9_ATTITUDES_PMS_PROG</th>             <td>    0.1141</td> <td>    0.029</td> <td>    4.000</td> <td> 0.000</td> <td>    0.058</td> <td>    0.170</td>\n",
       "</tr>\n",
       "<tr>\n",
       "  <th>WF9_CL6A_B_PRCNT_CHCLASS_BLACK</th>     <td>   -0.0053</td> <td>    0.003</td> <td>   -1.817</td> <td> 0.069</td> <td>   -0.011</td> <td>    0.000</td>\n",
       "</tr>\n",
       "<tr>\n",
       "  <th>WF9_WORK_BGCHK_EASY</th>                <td>    0.1140</td> <td>    0.083</td> <td>    1.366</td> <td> 0.172</td> <td>   -0.050</td> <td>    0.278</td>\n",
       "</tr>\n",
       "<tr>\n",
       "  <th>WF9_WORK_YRS_999</th>                   <td>  -16.7791</td> <td> 6306.559</td> <td>   -0.003</td> <td> 0.998</td> <td>-1.24e+04</td> <td> 1.23e+04</td>\n",
       "</tr>\n",
       "<tr>\n",
       "  <th>WF9_CAREER_EXPERIENCE_999</th>          <td>    1.5749</td> <td>    0.681</td> <td>    2.312</td> <td> 0.021</td> <td>    0.240</td> <td>    2.910</td>\n",
       "</tr>\n",
       "<tr>\n",
       "  <th>WF9_CHAR_EDUC_999</th>                  <td>  -14.6527</td> <td> 1467.945</td> <td>   -0.010</td> <td> 0.992</td> <td>-2891.773</td> <td> 2862.467</td>\n",
       "</tr>\n",
       "<tr>\n",
       "  <th>WF9_A19_HRS_SKILLS_999</th>             <td>   -0.4274</td> <td>    0.851</td> <td>   -0.502</td> <td> 0.616</td> <td>   -2.096</td> <td>    1.241</td>\n",
       "</tr>\n",
       "<tr>\n",
       "  <th>WF9_WORK_HRS_CAT_999</th>               <td>    1.8715</td> <td>    1.173</td> <td>    1.596</td> <td> 0.110</td> <td>   -0.427</td> <td>    4.170</td>\n",
       "</tr>\n",
       "<tr>\n",
       "  <th>WF9_WORK_MONTHS_999</th>                <td>   -0.3147</td> <td>    0.855</td> <td>   -0.368</td> <td> 0.713</td> <td>   -1.990</td> <td>    1.360</td>\n",
       "</tr>\n",
       "<tr>\n",
       "  <th>WF9_WORK_BEHAVIOR_999</th>              <td>    1.9307</td> <td>    0.793</td> <td>    2.434</td> <td> 0.015</td> <td>    0.376</td> <td>    3.486</td>\n",
       "</tr>\n",
       "<tr>\n",
       "  <th>WF9_WORK_HELP_AVAILABLE_999</th>        <td>  -13.5564</td> <td> 1085.433</td> <td>   -0.012</td> <td> 0.990</td> <td>-2140.966</td> <td> 2113.853</td>\n",
       "</tr>\n",
       "<tr>\n",
       "  <th>WF9_WORK_RESPECT_999</th>               <td>  -22.8995</td> <td> 2.95e+05</td> <td>-7.76e-05</td> <td> 1.000</td> <td>-5.79e+05</td> <td> 5.79e+05</td>\n",
       "</tr>\n",
       "<tr>\n",
       "  <th>WF9_CHAR_HHINCOME_999</th>              <td>   -0.4110</td> <td>    0.374</td> <td>   -1.099</td> <td> 0.272</td> <td>   -1.144</td> <td>    0.322</td>\n",
       "</tr>\n",
       "<tr>\n",
       "  <th>WF9_CL6A_B_PRCNT_CHCLASS_BLACK_999</th> <td>   -0.2502</td> <td>    0.198</td> <td>   -1.266</td> <td> 0.205</td> <td>   -0.638</td> <td>    0.137</td>\n",
       "</tr>\n",
       "<tr>\n",
       "  <th>WF9_WORK_BGCHK_EASY_999</th>            <td>    0.1936</td> <td>    0.540</td> <td>    0.359</td> <td> 0.720</td> <td>   -0.865</td> <td>    1.252</td>\n",
       "</tr>\n",
       "<tr>\n",
       "  <th>WF9_CHAR_RACE_2</th>                    <td>    0.1187</td> <td>    0.207</td> <td>    0.573</td> <td> 0.567</td> <td>   -0.287</td> <td>    0.524</td>\n",
       "</tr>\n",
       "<tr>\n",
       "  <th>WF9_CHAR_RACE_3</th>                    <td>    0.1645</td> <td>    0.396</td> <td>    0.415</td> <td> 0.678</td> <td>   -0.611</td> <td>    0.940</td>\n",
       "</tr>\n",
       "<tr>\n",
       "  <th>WF9_CHAR_RACE_8</th>                    <td>    0.0925</td> <td>    0.284</td> <td>    0.326</td> <td> 0.744</td> <td>   -0.463</td> <td>    0.648</td>\n",
       "</tr>\n",
       "<tr>\n",
       "  <th>WF9_CHAR_RACE_999</th>                  <td>   -0.1096</td> <td>    0.369</td> <td>   -0.297</td> <td> 0.766</td> <td>   -0.832</td> <td>    0.613</td>\n",
       "</tr>\n",
       "<tr>\n",
       "  <th>WF9_CAREER_UNION_2</th>                 <td>   -0.2913</td> <td>    0.252</td> <td>   -1.154</td> <td> 0.248</td> <td>   -0.786</td> <td>    0.203</td>\n",
       "</tr>\n",
       "<tr>\n",
       "  <th>WF9_CAREER_UNION_999</th>               <td>    0.3017</td> <td>    0.920</td> <td>    0.328</td> <td> 0.743</td> <td>   -1.501</td> <td>    2.105</td>\n",
       "</tr>\n",
       "<tr>\n",
       "  <th>WF9_CHAR_HISP_2</th>                    <td>    0.3496</td> <td>    0.218</td> <td>    1.603</td> <td> 0.109</td> <td>   -0.078</td> <td>    0.777</td>\n",
       "</tr>\n",
       "<tr>\n",
       "  <th>WF9_CHAR_HISP_999</th>                  <td>   -0.0027</td> <td>    1.136</td> <td>   -0.002</td> <td> 0.998</td> <td>   -2.229</td> <td>    2.224</td>\n",
       "</tr>\n",
       "<tr>\n",
       "  <th>WF9_CHAR_COUNTRY_BORN_2</th>            <td>   -1.3943</td> <td>    0.751</td> <td>   -1.857</td> <td> 0.063</td> <td>   -2.866</td> <td>    0.077</td>\n",
       "</tr>\n",
       "<tr>\n",
       "  <th>WF9_CHAR_COUNTRY_BORN_3</th>            <td>   -0.5024</td> <td>    0.311</td> <td>   -1.614</td> <td> 0.107</td> <td>   -1.113</td> <td>    0.108</td>\n",
       "</tr>\n",
       "<tr>\n",
       "  <th>WF9_CHAR_COUNTRY_BORN_999</th>          <td>   -1.0408</td> <td>    1.214</td> <td>   -0.857</td> <td> 0.391</td> <td>   -3.421</td> <td>    1.339</td>\n",
       "</tr>\n",
       "<tr>\n",
       "  <th>WF9_CHAR_MARITAL_2</th>                 <td>   -0.0220</td> <td>    0.174</td> <td>   -0.126</td> <td> 0.899</td> <td>   -0.363</td> <td>    0.319</td>\n",
       "</tr>\n",
       "<tr>\n",
       "  <th>WF9_CHAR_MARITAL_3</th>                 <td>   -0.4347</td> <td>    0.388</td> <td>   -1.121</td> <td> 0.262</td> <td>   -1.194</td> <td>    0.325</td>\n",
       "</tr>\n",
       "<tr>\n",
       "  <th>WF9_CHAR_MARITAL_4</th>                 <td>   -0.1662</td> <td>    0.268</td> <td>   -0.621</td> <td> 0.535</td> <td>   -0.691</td> <td>    0.358</td>\n",
       "</tr>\n",
       "<tr>\n",
       "  <th>WF9_CHAR_MARITAL_999</th>               <td>   -0.5470</td> <td>    1.205</td> <td>   -0.454</td> <td> 0.650</td> <td>   -2.910</td> <td>    1.816</td>\n",
       "</tr>\n",
       "<tr>\n",
       "  <th>WF9_CHAR_GOVT_PRGM_2</th>               <td>   -0.1042</td> <td>    0.193</td> <td>   -0.538</td> <td> 0.590</td> <td>   -0.483</td> <td>    0.275</td>\n",
       "</tr>\n",
       "<tr>\n",
       "  <th>WF9_CHAR_GOVT_PRGM_999</th>             <td>    0.2268</td> <td>    0.679</td> <td>    0.334</td> <td> 0.738</td> <td>   -1.104</td> <td>    1.557</td>\n",
       "</tr>\n",
       "<tr>\n",
       "  <th>WF9_CHAR_GENDER_2</th>                  <td>    0.4216</td> <td>    0.544</td> <td>    0.774</td> <td> 0.439</td> <td>   -0.645</td> <td>    1.489</td>\n",
       "</tr>\n",
       "<tr>\n",
       "  <th>WF9_CHAR_GENDER_999</th>                <td>    0.4723</td> <td>    1.719</td> <td>    0.275</td> <td> 0.784</td> <td>   -2.898</td> <td>    3.842</td>\n",
       "</tr>\n",
       "<tr>\n",
       "  <th>WF9_C5_OVER4HR_TRAIN_1</th>             <td>   -0.3081</td> <td>    0.214</td> <td>   -1.440</td> <td> 0.150</td> <td>   -0.727</td> <td>    0.111</td>\n",
       "</tr>\n",
       "<tr>\n",
       "  <th>WF9_C5_OVER4HR_TRAIN_2</th>             <td>    0.1356</td> <td>    0.210</td> <td>    0.645</td> <td> 0.519</td> <td>   -0.277</td> <td>    0.548</td>\n",
       "</tr>\n",
       "<tr>\n",
       "  <th>WF9_C5_OVER4HR_TRAIN_3</th>             <td>   -1.5003</td> <td>    1.195</td> <td>   -1.256</td> <td> 0.209</td> <td>   -3.842</td> <td>    0.842</td>\n",
       "</tr>\n",
       "<tr>\n",
       "  <th>CB9_SERVE_0TO3YRS_1</th>                <td>    0.0445</td> <td>    0.194</td> <td>    0.229</td> <td> 0.819</td> <td>   -0.336</td> <td>    0.425</td>\n",
       "</tr>\n",
       "<tr>\n",
       "  <th>CB9_SERVE_0TO3YRS_999</th>              <td>    1.0495</td> <td>    0.699</td> <td>    1.500</td> <td> 0.133</td> <td>   -0.321</td> <td>    2.420</td>\n",
       "</tr>\n",
       "<tr>\n",
       "  <th>WF9_PROFDEV_WRKSHP_2</th>               <td>   -0.2892</td> <td>    0.183</td> <td>   -1.577</td> <td> 0.115</td> <td>   -0.648</td> <td>    0.070</td>\n",
       "</tr>\n",
       "<tr>\n",
       "  <th>WF9_PROFDEV_WRKSHP_999</th>             <td>    1.4496</td> <td>    0.562</td> <td>    2.580</td> <td> 0.010</td> <td>    0.348</td> <td>    2.551</td>\n",
       "</tr>\n",
       "<tr>\n",
       "  <th>WF9_WORK_PLAN_2</th>                    <td>    0.1818</td> <td>    0.204</td> <td>    0.892</td> <td> 0.372</td> <td>   -0.218</td> <td>    0.581</td>\n",
       "</tr>\n",
       "<tr>\n",
       "  <th>WF9_WORK_PLAN_999</th>                  <td>  -76.3911</td> <td> 1.96e+16</td> <td> -3.9e-15</td> <td> 1.000</td> <td>-3.84e+16</td> <td> 3.84e+16</td>\n",
       "</tr>\n",
       "<tr>\n",
       "  <th>WF9_WORK_REVIEW_2</th>                  <td>    0.2079</td> <td>    0.161</td> <td>    1.294</td> <td> 0.196</td> <td>   -0.107</td> <td>    0.523</td>\n",
       "</tr>\n",
       "<tr>\n",
       "  <th>WF9_WORK_REVIEW_999</th>                <td>   -0.4067</td> <td>    0.657</td> <td>   -0.619</td> <td> 0.536</td> <td>   -1.693</td> <td>    0.880</td>\n",
       "</tr>\n",
       "<tr>\n",
       "  <th>CB9_RVNU_CENTER_FUND_COMBO_2</th>       <td>   -0.5469</td> <td>    0.298</td> <td>   -1.833</td> <td> 0.067</td> <td>   -1.132</td> <td>    0.038</td>\n",
       "</tr>\n",
       "<tr>\n",
       "  <th>CB9_RVNU_CENTER_FUND_COMBO_3</th>       <td>   -0.2475</td> <td>    0.304</td> <td>   -0.813</td> <td> 0.416</td> <td>   -0.844</td> <td>    0.349</td>\n",
       "</tr>\n",
       "<tr>\n",
       "  <th>CB9_RVNU_CENTER_FUND_COMBO_4</th>       <td>   -0.5282</td> <td>    0.247</td> <td>   -2.135</td> <td> 0.033</td> <td>   -1.013</td> <td>   -0.043</td>\n",
       "</tr>\n",
       "<tr>\n",
       "  <th>CB9_RVNU_CENTER_FUND_COMBO_5</th>       <td>   -0.4771</td> <td>    0.320</td> <td>   -1.491</td> <td> 0.136</td> <td>   -1.104</td> <td>    0.150</td>\n",
       "</tr>\n",
       "<tr>\n",
       "  <th>CB9_RVNU_CENTER_FUND_COMBO_6</th>       <td>   -0.1113</td> <td>    0.359</td> <td>   -0.310</td> <td> 0.756</td> <td>   -0.814</td> <td>    0.591</td>\n",
       "</tr>\n",
       "<tr>\n",
       "  <th>CB9_RVNU_CENTER_FUND_COMBO_7</th>       <td>   -0.6934</td> <td>    0.274</td> <td>   -2.531</td> <td> 0.011</td> <td>   -1.230</td> <td>   -0.156</td>\n",
       "</tr>\n",
       "<tr>\n",
       "  <th>CB9_RVNU_CENTER_FUND_COMBO_8</th>       <td>   -0.2355</td> <td>    0.201</td> <td>   -1.173</td> <td> 0.241</td> <td>   -0.629</td> <td>    0.158</td>\n",
       "</tr>\n",
       "<tr>\n",
       "  <th>WF9_CHAR_HEALTH_INSRNCE_2</th>          <td>    0.3345</td> <td>    0.250</td> <td>    1.339</td> <td> 0.181</td> <td>   -0.155</td> <td>    0.824</td>\n",
       "</tr>\n",
       "<tr>\n",
       "  <th>WF9_CHAR_HEALTH_INSRNCE_3</th>          <td>    0.3842</td> <td>    0.568</td> <td>    0.676</td> <td> 0.499</td> <td>   -0.730</td> <td>    1.498</td>\n",
       "</tr>\n",
       "<tr>\n",
       "  <th>WF9_CHAR_HEALTH_INSRNCE_4</th>          <td>    0.0432</td> <td>    0.339</td> <td>    0.127</td> <td> 0.899</td> <td>   -0.621</td> <td>    0.708</td>\n",
       "</tr>\n",
       "<tr>\n",
       "  <th>WF9_CHAR_HEALTH_INSRNCE_5</th>          <td>   -0.2378</td> <td>    0.309</td> <td>   -0.769</td> <td> 0.442</td> <td>   -0.844</td> <td>    0.368</td>\n",
       "</tr>\n",
       "<tr>\n",
       "  <th>WF9_CHAR_HEALTH_INSRNCE_6</th>          <td>    0.4457</td> <td>    0.330</td> <td>    1.350</td> <td> 0.177</td> <td>   -0.201</td> <td>    1.093</td>\n",
       "</tr>\n",
       "<tr>\n",
       "  <th>WF9_CHAR_HEALTH_INSRNCE_7</th>          <td>    0.3893</td> <td>    0.250</td> <td>    1.558</td> <td> 0.119</td> <td>   -0.100</td> <td>    0.879</td>\n",
       "</tr>\n",
       "<tr>\n",
       "  <th>WF9_CHAR_HEALTH_INSRNCE_8</th>          <td>    0.2644</td> <td>    0.257</td> <td>    1.028</td> <td> 0.304</td> <td>   -0.240</td> <td>    0.769</td>\n",
       "</tr>\n",
       "<tr>\n",
       "  <th>WF9_CHAR_HEALTH_INSRNCE_999</th>        <td>    0.2938</td> <td>    1.181</td> <td>    0.249</td> <td> 0.804</td> <td>   -2.022</td> <td>    2.609</td>\n",
       "</tr>\n",
       "</table>"
      ],
      "text/plain": [
       "<class 'statsmodels.iolib.summary.Summary'>\n",
       "\"\"\"\n",
       "                           Logit Regression Results                           \n",
       "==============================================================================\n",
       "Dep. Variable:          WF9_CESD7_CUT   No. Observations:                 3331\n",
       "Model:                          Logit   Df Residuals:                     3259\n",
       "Method:                           MLE   Df Model:                           71\n",
       "Date:                Thu, 04 May 2023   Pseudo R-squ.:                  0.1831\n",
       "Time:                        21:47:27   Log-Likelihood:                -779.36\n",
       "converged:                      False   LL-Null:                       -954.05\n",
       "Covariance Type:            nonrobust   LLR p-value:                 2.209e-38\n",
       "======================================================================================================\n",
       "                                         coef    std err          z      P>|z|      [0.025      0.975]\n",
       "------------------------------------------------------------------------------------------------------\n",
       "const                                 -7.2943      1.030     -7.082      0.000      -9.313      -5.276\n",
       "WF9_WORK_YRS                          -0.0703      0.022     -3.269      0.001      -0.112      -0.028\n",
       "WF9_CAREER_EXPERIENCE                  0.0055      0.054      0.102      0.919      -0.101       0.112\n",
       "WF9_CHAR_EDUC                         -0.0653      0.056     -1.160      0.246      -0.176       0.045\n",
       "WF9_A19_HRS_SKILLS                    -0.0471      0.056     -0.845      0.398      -0.156       0.062\n",
       "WF9_WORK_HRS_CAT                       0.0396      0.050      0.792      0.428      -0.058       0.138\n",
       "WF9_WORK_MONTHS                        0.0169      0.025      0.665      0.506      -0.033       0.067\n",
       "WF9_WORK_BEHAVIOR                      0.5724      0.105      5.461      0.000       0.367       0.778\n",
       "WF9_WORK_HELP_AVAILABLE                0.2001      0.072      2.774      0.006       0.059       0.342\n",
       "WF9_WORK_RESPECT                       0.4466      0.072      6.178      0.000       0.305       0.588\n",
       "WF9_CHAR_HHINCOME                     -0.0757      0.062     -1.218      0.223      -0.198       0.046\n",
       "WF9_WORK_PRNTS_TALK                    0.3518      0.101      3.489      0.000       0.154       0.550\n",
       "WF9_ATTITUDES_PMS_PROG                 0.1141      0.029      4.000      0.000       0.058       0.170\n",
       "WF9_CL6A_B_PRCNT_CHCLASS_BLACK        -0.0053      0.003     -1.817      0.069      -0.011       0.000\n",
       "WF9_WORK_BGCHK_EASY                    0.1140      0.083      1.366      0.172      -0.050       0.278\n",
       "WF9_WORK_YRS_999                     -16.7791   6306.559     -0.003      0.998   -1.24e+04    1.23e+04\n",
       "WF9_CAREER_EXPERIENCE_999              1.5749      0.681      2.312      0.021       0.240       2.910\n",
       "WF9_CHAR_EDUC_999                    -14.6527   1467.945     -0.010      0.992   -2891.773    2862.467\n",
       "WF9_A19_HRS_SKILLS_999                -0.4274      0.851     -0.502      0.616      -2.096       1.241\n",
       "WF9_WORK_HRS_CAT_999                   1.8715      1.173      1.596      0.110      -0.427       4.170\n",
       "WF9_WORK_MONTHS_999                   -0.3147      0.855     -0.368      0.713      -1.990       1.360\n",
       "WF9_WORK_BEHAVIOR_999                  1.9307      0.793      2.434      0.015       0.376       3.486\n",
       "WF9_WORK_HELP_AVAILABLE_999          -13.5564   1085.433     -0.012      0.990   -2140.966    2113.853\n",
       "WF9_WORK_RESPECT_999                 -22.8995   2.95e+05  -7.76e-05      1.000   -5.79e+05    5.79e+05\n",
       "WF9_CHAR_HHINCOME_999                 -0.4110      0.374     -1.099      0.272      -1.144       0.322\n",
       "WF9_CL6A_B_PRCNT_CHCLASS_BLACK_999    -0.2502      0.198     -1.266      0.205      -0.638       0.137\n",
       "WF9_WORK_BGCHK_EASY_999                0.1936      0.540      0.359      0.720      -0.865       1.252\n",
       "WF9_CHAR_RACE_2                        0.1187      0.207      0.573      0.567      -0.287       0.524\n",
       "WF9_CHAR_RACE_3                        0.1645      0.396      0.415      0.678      -0.611       0.940\n",
       "WF9_CHAR_RACE_8                        0.0925      0.284      0.326      0.744      -0.463       0.648\n",
       "WF9_CHAR_RACE_999                     -0.1096      0.369     -0.297      0.766      -0.832       0.613\n",
       "WF9_CAREER_UNION_2                    -0.2913      0.252     -1.154      0.248      -0.786       0.203\n",
       "WF9_CAREER_UNION_999                   0.3017      0.920      0.328      0.743      -1.501       2.105\n",
       "WF9_CHAR_HISP_2                        0.3496      0.218      1.603      0.109      -0.078       0.777\n",
       "WF9_CHAR_HISP_999                     -0.0027      1.136     -0.002      0.998      -2.229       2.224\n",
       "WF9_CHAR_COUNTRY_BORN_2               -1.3943      0.751     -1.857      0.063      -2.866       0.077\n",
       "WF9_CHAR_COUNTRY_BORN_3               -0.5024      0.311     -1.614      0.107      -1.113       0.108\n",
       "WF9_CHAR_COUNTRY_BORN_999             -1.0408      1.214     -0.857      0.391      -3.421       1.339\n",
       "WF9_CHAR_MARITAL_2                    -0.0220      0.174     -0.126      0.899      -0.363       0.319\n",
       "WF9_CHAR_MARITAL_3                    -0.4347      0.388     -1.121      0.262      -1.194       0.325\n",
       "WF9_CHAR_MARITAL_4                    -0.1662      0.268     -0.621      0.535      -0.691       0.358\n",
       "WF9_CHAR_MARITAL_999                  -0.5470      1.205     -0.454      0.650      -2.910       1.816\n",
       "WF9_CHAR_GOVT_PRGM_2                  -0.1042      0.193     -0.538      0.590      -0.483       0.275\n",
       "WF9_CHAR_GOVT_PRGM_999                 0.2268      0.679      0.334      0.738      -1.104       1.557\n",
       "WF9_CHAR_GENDER_2                      0.4216      0.544      0.774      0.439      -0.645       1.489\n",
       "WF9_CHAR_GENDER_999                    0.4723      1.719      0.275      0.784      -2.898       3.842\n",
       "WF9_C5_OVER4HR_TRAIN_1                -0.3081      0.214     -1.440      0.150      -0.727       0.111\n",
       "WF9_C5_OVER4HR_TRAIN_2                 0.1356      0.210      0.645      0.519      -0.277       0.548\n",
       "WF9_C5_OVER4HR_TRAIN_3                -1.5003      1.195     -1.256      0.209      -3.842       0.842\n",
       "CB9_SERVE_0TO3YRS_1                    0.0445      0.194      0.229      0.819      -0.336       0.425\n",
       "CB9_SERVE_0TO3YRS_999                  1.0495      0.699      1.500      0.133      -0.321       2.420\n",
       "WF9_PROFDEV_WRKSHP_2                  -0.2892      0.183     -1.577      0.115      -0.648       0.070\n",
       "WF9_PROFDEV_WRKSHP_999                 1.4496      0.562      2.580      0.010       0.348       2.551\n",
       "WF9_WORK_PLAN_2                        0.1818      0.204      0.892      0.372      -0.218       0.581\n",
       "WF9_WORK_PLAN_999                    -76.3911   1.96e+16   -3.9e-15      1.000   -3.84e+16    3.84e+16\n",
       "WF9_WORK_REVIEW_2                      0.2079      0.161      1.294      0.196      -0.107       0.523\n",
       "WF9_WORK_REVIEW_999                   -0.4067      0.657     -0.619      0.536      -1.693       0.880\n",
       "CB9_RVNU_CENTER_FUND_COMBO_2          -0.5469      0.298     -1.833      0.067      -1.132       0.038\n",
       "CB9_RVNU_CENTER_FUND_COMBO_3          -0.2475      0.304     -0.813      0.416      -0.844       0.349\n",
       "CB9_RVNU_CENTER_FUND_COMBO_4          -0.5282      0.247     -2.135      0.033      -1.013      -0.043\n",
       "CB9_RVNU_CENTER_FUND_COMBO_5          -0.4771      0.320     -1.491      0.136      -1.104       0.150\n",
       "CB9_RVNU_CENTER_FUND_COMBO_6          -0.1113      0.359     -0.310      0.756      -0.814       0.591\n",
       "CB9_RVNU_CENTER_FUND_COMBO_7          -0.6934      0.274     -2.531      0.011      -1.230      -0.156\n",
       "CB9_RVNU_CENTER_FUND_COMBO_8          -0.2355      0.201     -1.173      0.241      -0.629       0.158\n",
       "WF9_CHAR_HEALTH_INSRNCE_2              0.3345      0.250      1.339      0.181      -0.155       0.824\n",
       "WF9_CHAR_HEALTH_INSRNCE_3              0.3842      0.568      0.676      0.499      -0.730       1.498\n",
       "WF9_CHAR_HEALTH_INSRNCE_4              0.0432      0.339      0.127      0.899      -0.621       0.708\n",
       "WF9_CHAR_HEALTH_INSRNCE_5             -0.2378      0.309     -0.769      0.442      -0.844       0.368\n",
       "WF9_CHAR_HEALTH_INSRNCE_6              0.4457      0.330      1.350      0.177      -0.201       1.093\n",
       "WF9_CHAR_HEALTH_INSRNCE_7              0.3893      0.250      1.558      0.119      -0.100       0.879\n",
       "WF9_CHAR_HEALTH_INSRNCE_8              0.2644      0.257      1.028      0.304      -0.240       0.769\n",
       "WF9_CHAR_HEALTH_INSRNCE_999            0.2938      1.181      0.249      0.804      -2.022       2.609\n",
       "======================================================================================================\n",
       "\"\"\""
      ]
     },
     "execution_count": 44,
     "metadata": {},
     "output_type": "execute_result"
    }
   ],
   "source": [
    "model.summary()"
   ]
  },
  {
   "cell_type": "code",
   "execution_count": 45,
   "id": "cdf99964",
   "metadata": {},
   "outputs": [],
   "source": [
    "pred = [1 if x == True else 0 for x in model.predict(dev_X) > 0.5]"
   ]
  },
  {
   "cell_type": "code",
   "execution_count": 46,
   "id": "bcbeebef",
   "metadata": {},
   "outputs": [
    {
     "name": "stdout",
     "output_type": "stream",
     "text": [
      "[[374   2]\n",
      " [ 38   3]]\n",
      "Model TPR: 0.07317073170731707\n",
      "Model FPR: 0.005319148936170213\n",
      "Model F1: 0.13043478260869565\n",
      "Model Precision: 0.6\n",
      "Model Accuracy: 0.9040767386091128\n"
     ]
    }
   ],
   "source": [
    "acc1, TPR1, FPR1, f1_1, prec1 = showmetrics(pred, dev_Y)"
   ]
  },
  {
   "cell_type": "markdown",
   "id": "d2bf5a5a",
   "metadata": {},
   "source": [
    "# VIF"
   ]
  },
  {
   "cell_type": "code",
   "execution_count": 47,
   "id": "32ed7285",
   "metadata": {},
   "outputs": [],
   "source": [
    "vif_drop = train_X"
   ]
  },
  {
   "cell_type": "code",
   "execution_count": 48,
   "id": "ad72eb0a",
   "metadata": {},
   "outputs": [],
   "source": [
    "# VIF dataframe\n",
    "vif_data = pd.DataFrame()\n",
    "vif_data[\"feature\"] = vif_drop.columns"
   ]
  },
  {
   "cell_type": "code",
   "execution_count": 49,
   "id": "05dcb2b8",
   "metadata": {},
   "outputs": [
    {
     "data": {
      "text/html": [
       "<div>\n",
       "<style scoped>\n",
       "    .dataframe tbody tr th:only-of-type {\n",
       "        vertical-align: middle;\n",
       "    }\n",
       "\n",
       "    .dataframe tbody tr th {\n",
       "        vertical-align: top;\n",
       "    }\n",
       "\n",
       "    .dataframe thead th {\n",
       "        text-align: right;\n",
       "    }\n",
       "</style>\n",
       "<table border=\"1\" class=\"dataframe\">\n",
       "  <thead>\n",
       "    <tr style=\"text-align: right;\">\n",
       "      <th></th>\n",
       "      <th>feature</th>\n",
       "      <th>VIF</th>\n",
       "    </tr>\n",
       "  </thead>\n",
       "  <tbody>\n",
       "    <tr>\n",
       "      <th>0</th>\n",
       "      <td>const</td>\n",
       "      <td>203.288118</td>\n",
       "    </tr>\n",
       "    <tr>\n",
       "      <th>1</th>\n",
       "      <td>WF9_WORK_YRS</td>\n",
       "      <td>1.669649</td>\n",
       "    </tr>\n",
       "    <tr>\n",
       "      <th>2</th>\n",
       "      <td>WF9_CAREER_EXPERIENCE</td>\n",
       "      <td>1.731379</td>\n",
       "    </tr>\n",
       "    <tr>\n",
       "      <th>3</th>\n",
       "      <td>WF9_CHAR_EDUC</td>\n",
       "      <td>1.409241</td>\n",
       "    </tr>\n",
       "    <tr>\n",
       "      <th>4</th>\n",
       "      <td>WF9_A19_HRS_SKILLS</td>\n",
       "      <td>1.295134</td>\n",
       "    </tr>\n",
       "    <tr>\n",
       "      <th>5</th>\n",
       "      <td>WF9_WORK_HRS_CAT</td>\n",
       "      <td>1.230536</td>\n",
       "    </tr>\n",
       "    <tr>\n",
       "      <th>6</th>\n",
       "      <td>WF9_WORK_MONTHS</td>\n",
       "      <td>1.403114</td>\n",
       "    </tr>\n",
       "    <tr>\n",
       "      <th>7</th>\n",
       "      <td>WF9_WORK_BEHAVIOR</td>\n",
       "      <td>1.332019</td>\n",
       "    </tr>\n",
       "    <tr>\n",
       "      <th>8</th>\n",
       "      <td>WF9_WORK_HELP_AVAILABLE</td>\n",
       "      <td>1.506451</td>\n",
       "    </tr>\n",
       "    <tr>\n",
       "      <th>9</th>\n",
       "      <td>WF9_WORK_RESPECT</td>\n",
       "      <td>1.478427</td>\n",
       "    </tr>\n",
       "    <tr>\n",
       "      <th>10</th>\n",
       "      <td>WF9_CHAR_HHINCOME</td>\n",
       "      <td>2.652622</td>\n",
       "    </tr>\n",
       "    <tr>\n",
       "      <th>11</th>\n",
       "      <td>WF9_WORK_PRNTS_TALK</td>\n",
       "      <td>1.183152</td>\n",
       "    </tr>\n",
       "    <tr>\n",
       "      <th>12</th>\n",
       "      <td>WF9_ATTITUDES_PMS_PROG</td>\n",
       "      <td>1.071331</td>\n",
       "    </tr>\n",
       "    <tr>\n",
       "      <th>13</th>\n",
       "      <td>WF9_CL6A_B_PRCNT_CHCLASS_BLACK</td>\n",
       "      <td>1.707227</td>\n",
       "    </tr>\n",
       "    <tr>\n",
       "      <th>14</th>\n",
       "      <td>WF9_WORK_BGCHK_EASY</td>\n",
       "      <td>1.485758</td>\n",
       "    </tr>\n",
       "    <tr>\n",
       "      <th>15</th>\n",
       "      <td>WF9_WORK_YRS_999</td>\n",
       "      <td>1.097417</td>\n",
       "    </tr>\n",
       "    <tr>\n",
       "      <th>16</th>\n",
       "      <td>WF9_CAREER_EXPERIENCE_999</td>\n",
       "      <td>1.138469</td>\n",
       "    </tr>\n",
       "    <tr>\n",
       "      <th>17</th>\n",
       "      <td>WF9_CHAR_EDUC_999</td>\n",
       "      <td>1.237891</td>\n",
       "    </tr>\n",
       "    <tr>\n",
       "      <th>18</th>\n",
       "      <td>WF9_A19_HRS_SKILLS_999</td>\n",
       "      <td>1.299467</td>\n",
       "    </tr>\n",
       "    <tr>\n",
       "      <th>19</th>\n",
       "      <td>WF9_WORK_HRS_CAT_999</td>\n",
       "      <td>1.195964</td>\n",
       "    </tr>\n",
       "    <tr>\n",
       "      <th>20</th>\n",
       "      <td>WF9_WORK_MONTHS_999</td>\n",
       "      <td>1.341949</td>\n",
       "    </tr>\n",
       "    <tr>\n",
       "      <th>21</th>\n",
       "      <td>WF9_WORK_BEHAVIOR_999</td>\n",
       "      <td>1.231946</td>\n",
       "    </tr>\n",
       "    <tr>\n",
       "      <th>22</th>\n",
       "      <td>WF9_WORK_HELP_AVAILABLE_999</td>\n",
       "      <td>1.297065</td>\n",
       "    </tr>\n",
       "    <tr>\n",
       "      <th>23</th>\n",
       "      <td>WF9_WORK_RESPECT_999</td>\n",
       "      <td>1.162907</td>\n",
       "    </tr>\n",
       "    <tr>\n",
       "      <th>24</th>\n",
       "      <td>WF9_CHAR_HHINCOME_999</td>\n",
       "      <td>2.192597</td>\n",
       "    </tr>\n",
       "    <tr>\n",
       "      <th>25</th>\n",
       "      <td>WF9_CL6A_B_PRCNT_CHCLASS_BLACK_999</td>\n",
       "      <td>1.158528</td>\n",
       "    </tr>\n",
       "    <tr>\n",
       "      <th>26</th>\n",
       "      <td>WF9_WORK_BGCHK_EASY_999</td>\n",
       "      <td>1.494149</td>\n",
       "    </tr>\n",
       "    <tr>\n",
       "      <th>27</th>\n",
       "      <td>WF9_CHAR_RACE_2</td>\n",
       "      <td>1.777027</td>\n",
       "    </tr>\n",
       "    <tr>\n",
       "      <th>28</th>\n",
       "      <td>WF9_CHAR_RACE_3</td>\n",
       "      <td>1.294637</td>\n",
       "    </tr>\n",
       "    <tr>\n",
       "      <th>29</th>\n",
       "      <td>WF9_CHAR_RACE_8</td>\n",
       "      <td>1.062694</td>\n",
       "    </tr>\n",
       "    <tr>\n",
       "      <th>30</th>\n",
       "      <td>WF9_CHAR_RACE_999</td>\n",
       "      <td>1.389738</td>\n",
       "    </tr>\n",
       "    <tr>\n",
       "      <th>31</th>\n",
       "      <td>WF9_CAREER_UNION_2</td>\n",
       "      <td>1.298604</td>\n",
       "    </tr>\n",
       "    <tr>\n",
       "      <th>32</th>\n",
       "      <td>WF9_CAREER_UNION_999</td>\n",
       "      <td>1.203613</td>\n",
       "    </tr>\n",
       "    <tr>\n",
       "      <th>33</th>\n",
       "      <td>WF9_CHAR_HISP_2</td>\n",
       "      <td>1.683271</td>\n",
       "    </tr>\n",
       "    <tr>\n",
       "      <th>34</th>\n",
       "      <td>WF9_CHAR_HISP_999</td>\n",
       "      <td>1.283191</td>\n",
       "    </tr>\n",
       "    <tr>\n",
       "      <th>35</th>\n",
       "      <td>WF9_CHAR_COUNTRY_BORN_2</td>\n",
       "      <td>1.222902</td>\n",
       "    </tr>\n",
       "    <tr>\n",
       "      <th>36</th>\n",
       "      <td>WF9_CHAR_COUNTRY_BORN_3</td>\n",
       "      <td>1.318268</td>\n",
       "    </tr>\n",
       "    <tr>\n",
       "      <th>37</th>\n",
       "      <td>WF9_CHAR_COUNTRY_BORN_999</td>\n",
       "      <td>1.307187</td>\n",
       "    </tr>\n",
       "    <tr>\n",
       "      <th>38</th>\n",
       "      <td>WF9_CHAR_MARITAL_2</td>\n",
       "      <td>1.803627</td>\n",
       "    </tr>\n",
       "    <tr>\n",
       "      <th>39</th>\n",
       "      <td>WF9_CHAR_MARITAL_3</td>\n",
       "      <td>1.175793</td>\n",
       "    </tr>\n",
       "    <tr>\n",
       "      <th>40</th>\n",
       "      <td>WF9_CHAR_MARITAL_4</td>\n",
       "      <td>1.244185</td>\n",
       "    </tr>\n",
       "    <tr>\n",
       "      <th>41</th>\n",
       "      <td>WF9_CHAR_MARITAL_999</td>\n",
       "      <td>1.322336</td>\n",
       "    </tr>\n",
       "    <tr>\n",
       "      <th>42</th>\n",
       "      <td>WF9_CHAR_GOVT_PRGM_2</td>\n",
       "      <td>1.302477</td>\n",
       "    </tr>\n",
       "    <tr>\n",
       "      <th>43</th>\n",
       "      <td>WF9_CHAR_GOVT_PRGM_999</td>\n",
       "      <td>1.302432</td>\n",
       "    </tr>\n",
       "    <tr>\n",
       "      <th>44</th>\n",
       "      <td>WF9_CHAR_GENDER_2</td>\n",
       "      <td>1.114421</td>\n",
       "    </tr>\n",
       "    <tr>\n",
       "      <th>45</th>\n",
       "      <td>WF9_CHAR_GENDER_999</td>\n",
       "      <td>1.256771</td>\n",
       "    </tr>\n",
       "    <tr>\n",
       "      <th>46</th>\n",
       "      <td>WF9_C5_OVER4HR_TRAIN_1</td>\n",
       "      <td>2.462710</td>\n",
       "    </tr>\n",
       "    <tr>\n",
       "      <th>47</th>\n",
       "      <td>WF9_C5_OVER4HR_TRAIN_2</td>\n",
       "      <td>2.220325</td>\n",
       "    </tr>\n",
       "    <tr>\n",
       "      <th>48</th>\n",
       "      <td>WF9_C5_OVER4HR_TRAIN_3</td>\n",
       "      <td>1.164902</td>\n",
       "    </tr>\n",
       "    <tr>\n",
       "      <th>49</th>\n",
       "      <td>CB9_SERVE_0TO3YRS_1</td>\n",
       "      <td>1.470004</td>\n",
       "    </tr>\n",
       "    <tr>\n",
       "      <th>50</th>\n",
       "      <td>CB9_SERVE_0TO3YRS_999</td>\n",
       "      <td>1.042577</td>\n",
       "    </tr>\n",
       "    <tr>\n",
       "      <th>51</th>\n",
       "      <td>WF9_PROFDEV_WRKSHP_2</td>\n",
       "      <td>1.175516</td>\n",
       "    </tr>\n",
       "    <tr>\n",
       "      <th>52</th>\n",
       "      <td>WF9_PROFDEV_WRKSHP_999</td>\n",
       "      <td>1.113013</td>\n",
       "    </tr>\n",
       "    <tr>\n",
       "      <th>53</th>\n",
       "      <td>WF9_WORK_PLAN_2</td>\n",
       "      <td>1.174815</td>\n",
       "    </tr>\n",
       "    <tr>\n",
       "      <th>54</th>\n",
       "      <td>WF9_WORK_PLAN_999</td>\n",
       "      <td>1.026489</td>\n",
       "    </tr>\n",
       "    <tr>\n",
       "      <th>55</th>\n",
       "      <td>WF9_WORK_REVIEW_2</td>\n",
       "      <td>1.143244</td>\n",
       "    </tr>\n",
       "    <tr>\n",
       "      <th>56</th>\n",
       "      <td>WF9_WORK_REVIEW_999</td>\n",
       "      <td>1.106463</td>\n",
       "    </tr>\n",
       "    <tr>\n",
       "      <th>57</th>\n",
       "      <td>CB9_RVNU_CENTER_FUND_COMBO_2</td>\n",
       "      <td>1.587003</td>\n",
       "    </tr>\n",
       "    <tr>\n",
       "      <th>58</th>\n",
       "      <td>CB9_RVNU_CENTER_FUND_COMBO_3</td>\n",
       "      <td>1.328362</td>\n",
       "    </tr>\n",
       "    <tr>\n",
       "      <th>59</th>\n",
       "      <td>CB9_RVNU_CENTER_FUND_COMBO_4</td>\n",
       "      <td>1.292247</td>\n",
       "    </tr>\n",
       "  </tbody>\n",
       "</table>\n",
       "</div>"
      ],
      "text/plain": [
       "                               feature         VIF\n",
       "0                                const  203.288118\n",
       "1                         WF9_WORK_YRS    1.669649\n",
       "2                WF9_CAREER_EXPERIENCE    1.731379\n",
       "3                        WF9_CHAR_EDUC    1.409241\n",
       "4                   WF9_A19_HRS_SKILLS    1.295134\n",
       "5                     WF9_WORK_HRS_CAT    1.230536\n",
       "6                      WF9_WORK_MONTHS    1.403114\n",
       "7                    WF9_WORK_BEHAVIOR    1.332019\n",
       "8              WF9_WORK_HELP_AVAILABLE    1.506451\n",
       "9                     WF9_WORK_RESPECT    1.478427\n",
       "10                   WF9_CHAR_HHINCOME    2.652622\n",
       "11                 WF9_WORK_PRNTS_TALK    1.183152\n",
       "12              WF9_ATTITUDES_PMS_PROG    1.071331\n",
       "13      WF9_CL6A_B_PRCNT_CHCLASS_BLACK    1.707227\n",
       "14                 WF9_WORK_BGCHK_EASY    1.485758\n",
       "15                    WF9_WORK_YRS_999    1.097417\n",
       "16           WF9_CAREER_EXPERIENCE_999    1.138469\n",
       "17                   WF9_CHAR_EDUC_999    1.237891\n",
       "18              WF9_A19_HRS_SKILLS_999    1.299467\n",
       "19                WF9_WORK_HRS_CAT_999    1.195964\n",
       "20                 WF9_WORK_MONTHS_999    1.341949\n",
       "21               WF9_WORK_BEHAVIOR_999    1.231946\n",
       "22         WF9_WORK_HELP_AVAILABLE_999    1.297065\n",
       "23                WF9_WORK_RESPECT_999    1.162907\n",
       "24               WF9_CHAR_HHINCOME_999    2.192597\n",
       "25  WF9_CL6A_B_PRCNT_CHCLASS_BLACK_999    1.158528\n",
       "26             WF9_WORK_BGCHK_EASY_999    1.494149\n",
       "27                     WF9_CHAR_RACE_2    1.777027\n",
       "28                     WF9_CHAR_RACE_3    1.294637\n",
       "29                     WF9_CHAR_RACE_8    1.062694\n",
       "30                   WF9_CHAR_RACE_999    1.389738\n",
       "31                  WF9_CAREER_UNION_2    1.298604\n",
       "32                WF9_CAREER_UNION_999    1.203613\n",
       "33                     WF9_CHAR_HISP_2    1.683271\n",
       "34                   WF9_CHAR_HISP_999    1.283191\n",
       "35             WF9_CHAR_COUNTRY_BORN_2    1.222902\n",
       "36             WF9_CHAR_COUNTRY_BORN_3    1.318268\n",
       "37           WF9_CHAR_COUNTRY_BORN_999    1.307187\n",
       "38                  WF9_CHAR_MARITAL_2    1.803627\n",
       "39                  WF9_CHAR_MARITAL_3    1.175793\n",
       "40                  WF9_CHAR_MARITAL_4    1.244185\n",
       "41                WF9_CHAR_MARITAL_999    1.322336\n",
       "42                WF9_CHAR_GOVT_PRGM_2    1.302477\n",
       "43              WF9_CHAR_GOVT_PRGM_999    1.302432\n",
       "44                   WF9_CHAR_GENDER_2    1.114421\n",
       "45                 WF9_CHAR_GENDER_999    1.256771\n",
       "46              WF9_C5_OVER4HR_TRAIN_1    2.462710\n",
       "47              WF9_C5_OVER4HR_TRAIN_2    2.220325\n",
       "48              WF9_C5_OVER4HR_TRAIN_3    1.164902\n",
       "49                 CB9_SERVE_0TO3YRS_1    1.470004\n",
       "50               CB9_SERVE_0TO3YRS_999    1.042577\n",
       "51                WF9_PROFDEV_WRKSHP_2    1.175516\n",
       "52              WF9_PROFDEV_WRKSHP_999    1.113013\n",
       "53                     WF9_WORK_PLAN_2    1.174815\n",
       "54                   WF9_WORK_PLAN_999    1.026489\n",
       "55                   WF9_WORK_REVIEW_2    1.143244\n",
       "56                 WF9_WORK_REVIEW_999    1.106463\n",
       "57        CB9_RVNU_CENTER_FUND_COMBO_2    1.587003\n",
       "58        CB9_RVNU_CENTER_FUND_COMBO_3    1.328362\n",
       "59        CB9_RVNU_CENTER_FUND_COMBO_4    1.292247"
      ]
     },
     "execution_count": 49,
     "metadata": {},
     "output_type": "execute_result"
    }
   ],
   "source": [
    "vif_data[\"VIF\"] = [variance_inflation_factor(vif_drop.values, i)\n",
    "                          for i in range(len(vif_drop.columns))]\n",
    "vif_data.head(60)"
   ]
  },
  {
   "cell_type": "markdown",
   "id": "a8a4a032",
   "metadata": {},
   "source": [
    "## ROC Curve"
   ]
  },
  {
   "cell_type": "code",
   "execution_count": 50,
   "id": "b69c9343",
   "metadata": {
    "scrolled": true
   },
   "outputs": [
    {
     "data": {
      "text/plain": [
       "<matplotlib.legend.Legend at 0x7fae5c722c40>"
      ]
     },
     "execution_count": 50,
     "metadata": {},
     "output_type": "execute_result"
    },
    {
     "data": {
      "image/png": "[encoded data removed]",
      "text/plain": [
       "<Figure size 640x480 with 1 Axes>"
      ]
     },
     "metadata": {},
     "output_type": "display_data"
    }
   ],
   "source": [
    "pred_prob = model.predict(dev_X)\n",
    "\n",
    "fpr, tpr, proba = roc_curve(dev_Y, pred_prob)\n",
    "\n",
    "plt.plot(fpr, tpr, label=f\"AUC = {roc_auc_score(dev_Y, pred_prob)}\")\n",
    "plt.title(\"ROC Curve\")\n",
    "plt.ylabel(\"True Positive Rate\")\n",
    "plt.xlabel(\"False Positive Rate\")\n",
    "plt.legend(loc=\"lower right\")"
   ]
  },
  {
   "cell_type": "markdown",
   "id": "8f6560a9",
   "metadata": {},
   "source": [
    "## Predictions With \"Optimal\" Threshold"
   ]
  },
  {
   "cell_type": "code",
   "execution_count": 51,
   "id": "17688bea",
   "metadata": {},
   "outputs": [
    {
     "data": {
      "text/plain": [
       "0.05884281922794896"
      ]
     },
     "execution_count": 51,
     "metadata": {},
     "output_type": "execute_result"
    }
   ],
   "source": [
    "optimal_proba_cutoff = sorted(list(zip(np.abs(tpr - fpr), proba)), key=lambda i: i[0], reverse=True)[0][1]\n",
    "optimal_proba_cutoff"
   ]
  },
  {
   "cell_type": "code",
   "execution_count": 52,
   "id": "6601d6c5",
   "metadata": {},
   "outputs": [],
   "source": [
    "pred = [1 if x == True else 0 for x in model.predict(dev_X) > 0.052669540097475515]"
   ]
  },
  {
   "cell_type": "code",
   "execution_count": 53,
   "id": "110bfc08",
   "metadata": {},
   "outputs": [
    {
     "name": "stdout",
     "output_type": "stream",
     "text": [
      "[[220 156]\n",
      " [  8  33]]\n",
      "Model TPR: 0.8048780487804879\n",
      "Model FPR: 0.4148936170212766\n",
      "Model F1: 0.28695652173913044\n",
      "Model Precision: 0.1746031746031746\n",
      "Model Accuracy: 0.6067146282973621\n"
     ]
    }
   ],
   "source": [
    "acc2, TPR2, FPR2, f1_2, prec2 = showmetrics(pred, dev_Y)"
   ]
  },
  {
   "cell_type": "markdown",
   "id": "920464e1",
   "metadata": {},
   "source": [
    "## Predictions with Threshold = 0.2"
   ]
  },
  {
   "cell_type": "code",
   "execution_count": 54,
   "id": "559e6045",
   "metadata": {},
   "outputs": [],
   "source": [
    "pred = [1 if x == True else 0 for x in model.predict(dev_X) > 0.2]"
   ]
  },
  {
   "cell_type": "code",
   "execution_count": 55,
   "id": "80226e48",
   "metadata": {},
   "outputs": [
    {
     "name": "stdout",
     "output_type": "stream",
     "text": [
      "[[355  21]\n",
      " [ 27  14]]\n",
      "Model TPR: 0.34146341463414637\n",
      "Model FPR: 0.05585106382978723\n",
      "Model F1: 0.368421052631579\n",
      "Model Precision: 0.4\n",
      "Model Accuracy: 0.8848920863309353\n"
     ]
    }
   ],
   "source": [
    "acc3, TPR3, FPR3,f1_3, prec3 = showmetrics(pred, dev_Y)"
   ]
  },
  {
   "cell_type": "markdown",
   "id": "0cf473eb",
   "metadata": {},
   "source": [
    "# Predictions on Test Data"
   ]
  },
  {
   "cell_type": "code",
   "execution_count": 56,
   "id": "df093867",
   "metadata": {},
   "outputs": [],
   "source": [
    "test_X, test_Y = pd.read_csv(\"test_X_CUT\"), pd.read_csv(\"test_Y_CUT\")[\"WF9_CESD7_CUT\"]\n",
    "test_X = sm.add_constant(test_X)"
   ]
  },
  {
   "cell_type": "code",
   "execution_count": 57,
   "id": "deaf67f8",
   "metadata": {},
   "outputs": [],
   "source": [
    "pred = [1 if x == True else 0 for x in model.predict(test_X) > 0.5]"
   ]
  },
  {
   "cell_type": "code",
   "execution_count": 58,
   "id": "36d3f470",
   "metadata": {},
   "outputs": [
    {
     "name": "stdout",
     "output_type": "stream",
     "text": [
      "[[384   2]\n",
      " [ 28   2]]\n",
      "Model TPR: 0.06666666666666667\n",
      "Model FPR: 0.0051813471502590676\n",
      "Model F1: 0.11764705882352941\n",
      "Model Precision: 0.5\n",
      "Model Accuracy: 0.9278846153846154\n"
     ]
    }
   ],
   "source": [
    "acc_t_1, TPR_t_1, FPR_t_1 ,f1_t_1, prec_t_1 = showmetrics(pred, test_Y)"
   ]
  },
  {
   "cell_type": "code",
   "execution_count": null,
   "id": "0e9376a0",
   "metadata": {},
   "outputs": [],
   "source": []
  },
  {
   "cell_type": "code",
   "execution_count": 59,
   "id": "4b7e64e2",
   "metadata": {},
   "outputs": [],
   "source": [
    "pred = [1 if x == True else 0 for x in model.predict(test_X) > 0.1]"
   ]
  },
  {
   "cell_type": "code",
   "execution_count": 60,
   "id": "ffab2f4c",
   "metadata": {},
   "outputs": [
    {
     "name": "stdout",
     "output_type": "stream",
     "text": [
      "[[296  90]\n",
      " [ 12  18]]\n",
      "Model TPR: 0.6\n",
      "Model FPR: 0.23316062176165803\n",
      "Model F1: 0.2608695652173913\n",
      "Model Precision: 0.16666666666666666\n",
      "Model Accuracy: 0.7548076923076923\n"
     ]
    }
   ],
   "source": [
    "acc_t_2, TPR_t_2, FPR_t_2 ,f1_t_2, prec_t_2 = showmetrics(pred, test_Y)"
   ]
  },
  {
   "cell_type": "code",
   "execution_count": null,
   "id": "0cf43708",
   "metadata": {},
   "outputs": [],
   "source": []
  },
  {
   "cell_type": "code",
   "execution_count": 61,
   "id": "9f05ecf8",
   "metadata": {},
   "outputs": [
    {
     "data": {
      "application/vnd.plotly.v1+json": {
       "config": {
        "plotlyServerURL": "https://plot.ly"
       },
       "data": [
        {
         "hovertemplate": "x=%{x}<br>y=%{y}<extra></extra>",
         "legendgroup": "",
         "line": {
          "color": "#636efa",
          "dash": "solid"
         },
         "marker": {
          "symbol": "circle"
         },
         "mode": "lines",
         "name": "",
         "orientation": "v",
         "showlegend": false,
         "type": "scatter",
         "x": [
          0,
          0,
          0.0025906735751295338,
          0.0025906735751295338,
          0.010362694300518135,
          0.010362694300518135,
          0.018134715025906734,
          0.018134715025906734,
          0.02849740932642487,
          0.02849740932642487,
          0.07772020725388601,
          0.07772020725388601,
          0.08808290155440414,
          0.08808290155440414,
          0.09326424870466321,
          0.09326424870466321,
          0.10880829015544041,
          0.10880829015544041,
          0.11398963730569948,
          0.11398963730569948,
          0.11658031088082901,
          0.11658031088082901,
          0.12694300518134716,
          0.12694300518134716,
          0.14507772020725387,
          0.14507772020725387,
          0.16321243523316062,
          0.16321243523316062,
          0.18393782383419688,
          0.18393782383419688,
          0.19689119170984457,
          0.19689119170984457,
          0.20466321243523317,
          0.20466321243523317,
          0.20725388601036268,
          0.20725388601036268,
          0.2772020725388601,
          0.2772020725388601,
          0.2927461139896373,
          0.2927461139896373,
          0.33419689119170987,
          0.33419689119170987,
          0.34196891191709844,
          0.34196891191709844,
          0.35751295336787564,
          0.35751295336787564,
          0.422279792746114,
          0.422279792746114,
          0.4792746113989637,
          0.4792746113989637,
          0.5518134715025906,
          0.5518134715025906,
          0.6243523316062176,
          0.6243523316062176,
          0.7046632124352331,
          0.7046632124352331,
          0.8160621761658031,
          0.8160621761658031,
          0.9637305699481865,
          0.9637305699481865,
          1
         ],
         "xaxis": "x",
         "y": [
          0,
          0.03333333333333333,
          0.03333333333333333,
          0.06666666666666667,
          0.06666666666666667,
          0.1,
          0.1,
          0.13333333333333333,
          0.13333333333333333,
          0.16666666666666666,
          0.16666666666666666,
          0.2,
          0.2,
          0.23333333333333334,
          0.23333333333333334,
          0.26666666666666666,
          0.26666666666666666,
          0.3,
          0.3,
          0.3333333333333333,
          0.3333333333333333,
          0.36666666666666664,
          0.36666666666666664,
          0.4,
          0.4,
          0.43333333333333335,
          0.43333333333333335,
          0.4666666666666667,
          0.4666666666666667,
          0.5,
          0.5,
          0.5333333333333333,
          0.5333333333333333,
          0.5666666666666667,
          0.5666666666666667,
          0.6,
          0.6,
          0.6333333333333333,
          0.6333333333333333,
          0.6666666666666666,
          0.6666666666666666,
          0.7,
          0.7,
          0.7333333333333333,
          0.7333333333333333,
          0.7666666666666667,
          0.7666666666666667,
          0.8,
          0.8,
          0.8333333333333334,
          0.8333333333333334,
          0.8666666666666667,
          0.8666666666666667,
          0.9,
          0.9,
          0.9333333333333333,
          0.9333333333333333,
          0.9666666666666667,
          0.9666666666666667,
          1,
          1
         ],
         "yaxis": "y"
        }
       ],
       "layout": {
        "annotations": [
         {
          "font": {
           "size": 18
          },
          "showarrow": false,
          "text": "AUC = 0.7316062176165804",
          "x": 0.77,
          "y": 0.016
         }
        ],
        "height": 800,
        "legend": {
         "tracegroupgap": 0
        },
        "template": {
         "data": {
          "bar": [
           {
            "error_x": {
             "color": "#2a3f5f"
            },
            "error_y": {
             "color": "#2a3f5f"
            },
            "marker": {
             "line": {
              "color": "#E5ECF6",
              "width": 0.5
             },
             "pattern": {
              "fillmode": "overlay",
              "size": 10,
              "solidity": 0.2
             }
            },
            "type": "bar"
           }
          ],
          "barpolar": [
           {
            "marker": {
             "line": {
              "color": "#E5ECF6",
              "width": 0.5
             },
             "pattern": {
              "fillmode": "overlay",
              "size": 10,
              "solidity": 0.2
             }
            },
            "type": "barpolar"
           }
          ],
          "carpet": [
           {
            "aaxis": {
             "endlinecolor": "#2a3f5f",
             "gridcolor": "white",
             "linecolor": "white",
             "minorgridcolor": "white",
             "startlinecolor": "#2a3f5f"
            },
            "baxis": {
             "endlinecolor": "#2a3f5f",
             "gridcolor": "white",
             "linecolor": "white",
             "minorgridcolor": "white",
             "startlinecolor": "#2a3f5f"
            },
            "type": "carpet"
           }
          ],
          "choropleth": [
           {
            "colorbar": {
             "outlinewidth": 0,
             "ticks": ""
            },
            "type": "choropleth"
           }
          ],
          "contour": [
           {
            "colorbar": {
             "outlinewidth": 0,
             "ticks": ""
            },
            "colorscale": [
             [
              0,
              "#0d0887"
             ],
             [
              0.1111111111111111,
              "#46039f"
             ],
             [
              0.2222222222222222,
              "#7201a8"
             ],
             [
              0.3333333333333333,
              "#9c179e"
             ],
             [
              0.4444444444444444,
              "#bd3786"
             ],
             [
              0.5555555555555556,
              "#d8576b"
             ],
             [
              0.6666666666666666,
              "#ed7953"
             ],
             [
              0.7777777777777778,
              "#fb9f3a"
             ],
             [
              0.8888888888888888,
              "#fdca26"
             ],
             [
              1,
              "#f0f921"
             ]
            ],
            "type": "contour"
           }
          ],
          "contourcarpet": [
           {
            "colorbar": {
             "outlinewidth": 0,
             "ticks": ""
            },
            "type": "contourcarpet"
           }
          ],
          "heatmap": [
           {
            "colorbar": {
             "outlinewidth": 0,
             "ticks": ""
            },
            "colorscale": [
             [
              0,
              "#0d0887"
             ],
             [
              0.1111111111111111,
              "#46039f"
             ],
             [
              0.2222222222222222,
              "#7201a8"
             ],
             [
              0.3333333333333333,
              "#9c179e"
             ],
             [
              0.4444444444444444,
              "#bd3786"
             ],
             [
              0.5555555555555556,
              "#d8576b"
             ],
             [
              0.6666666666666666,
              "#ed7953"
             ],
             [
              0.7777777777777778,
              "#fb9f3a"
             ],
             [
              0.8888888888888888,
              "#fdca26"
             ],
             [
              1,
              "#f0f921"
             ]
            ],
            "type": "heatmap"
           }
          ],
          "heatmapgl": [
           {
            "colorbar": {
             "outlinewidth": 0,
             "ticks": ""
            },
            "colorscale": [
             [
              0,
              "#0d0887"
             ],
             [
              0.1111111111111111,
              "#46039f"
             ],
             [
              0.2222222222222222,
              "#7201a8"
             ],
             [
              0.3333333333333333,
              "#9c179e"
             ],
             [
              0.4444444444444444,
              "#bd3786"
             ],
             [
              0.5555555555555556,
              "#d8576b"
             ],
             [
              0.6666666666666666,
              "#ed7953"
             ],
             [
              0.7777777777777778,
              "#fb9f3a"
             ],
             [
              0.8888888888888888,
              "#fdca26"
             ],
             [
              1,
              "#f0f921"
             ]
            ],
            "type": "heatmapgl"
           }
          ],
          "histogram": [
           {
            "marker": {
             "pattern": {
              "fillmode": "overlay",
              "size": 10,
              "solidity": 0.2
             }
            },
            "type": "histogram"
           }
          ],
          "histogram2d": [
           {
            "colorbar": {
             "outlinewidth": 0,
             "ticks": ""
            },
            "colorscale": [
             [
              0,
              "#0d0887"
             ],
             [
              0.1111111111111111,
              "#46039f"
             ],
             [
              0.2222222222222222,
              "#7201a8"
             ],
             [
              0.3333333333333333,
              "#9c179e"
             ],
             [
              0.4444444444444444,
              "#bd3786"
             ],
             [
              0.5555555555555556,
              "#d8576b"
             ],
             [
              0.6666666666666666,
              "#ed7953"
             ],
             [
              0.7777777777777778,
              "#fb9f3a"
             ],
             [
              0.8888888888888888,
              "#fdca26"
             ],
             [
              1,
              "#f0f921"
             ]
            ],
            "type": "histogram2d"
           }
          ],
          "histogram2dcontour": [
           {
            "colorbar": {
             "outlinewidth": 0,
             "ticks": ""
            },
            "colorscale": [
             [
              0,
              "#0d0887"
             ],
             [
              0.1111111111111111,
              "#46039f"
             ],
             [
              0.2222222222222222,
              "#7201a8"
             ],
             [
              0.3333333333333333,
              "#9c179e"
             ],
             [
              0.4444444444444444,
              "#bd3786"
             ],
             [
              0.5555555555555556,
              "#d8576b"
             ],
             [
              0.6666666666666666,
              "#ed7953"
             ],
             [
              0.7777777777777778,
              "#fb9f3a"
             ],
             [
              0.8888888888888888,
              "#fdca26"
             ],
             [
              1,
              "#f0f921"
             ]
            ],
            "type": "histogram2dcontour"
           }
          ],
          "mesh3d": [
           {
            "colorbar": {
             "outlinewidth": 0,
             "ticks": ""
            },
            "type": "mesh3d"
           }
          ],
          "parcoords": [
           {
            "line": {
             "colorbar": {
              "outlinewidth": 0,
              "ticks": ""
             }
            },
            "type": "parcoords"
           }
          ],
          "pie": [
           {
            "automargin": true,
            "type": "pie"
           }
          ],
          "scatter": [
           {
            "marker": {
             "colorbar": {
              "outlinewidth": 0,
              "ticks": ""
             }
            },
            "type": "scatter"
           }
          ],
          "scatter3d": [
           {
            "line": {
             "colorbar": {
              "outlinewidth": 0,
              "ticks": ""
             }
            },
            "marker": {
             "colorbar": {
              "outlinewidth": 0,
              "ticks": ""
             }
            },
            "type": "scatter3d"
           }
          ],
          "scattercarpet": [
           {
            "marker": {
             "colorbar": {
              "outlinewidth": 0,
              "ticks": ""
             }
            },
            "type": "scattercarpet"
           }
          ],
          "scattergeo": [
           {
            "marker": {
             "colorbar": {
              "outlinewidth": 0,
              "ticks": ""
             }
            },
            "type": "scattergeo"
           }
          ],
          "scattergl": [
           {
            "marker": {
             "colorbar": {
              "outlinewidth": 0,
              "ticks": ""
             }
            },
            "type": "scattergl"
           }
          ],
          "scattermapbox": [
           {
            "marker": {
             "colorbar": {
              "outlinewidth": 0,
              "ticks": ""
             }
            },
            "type": "scattermapbox"
           }
          ],
          "scatterpolar": [
           {
            "marker": {
             "colorbar": {
              "outlinewidth": 0,
              "ticks": ""
             }
            },
            "type": "scatterpolar"
           }
          ],
          "scatterpolargl": [
           {
            "marker": {
             "colorbar": {
              "outlinewidth": 0,
              "ticks": ""
             }
            },
            "type": "scatterpolargl"
           }
          ],
          "scatterternary": [
           {
            "marker": {
             "colorbar": {
              "outlinewidth": 0,
              "ticks": ""
             }
            },
            "type": "scatterternary"
           }
          ],
          "surface": [
           {
            "colorbar": {
             "outlinewidth": 0,
             "ticks": ""
            },
            "colorscale": [
             [
              0,
              "#0d0887"
             ],
             [
              0.1111111111111111,
              "#46039f"
             ],
             [
              0.2222222222222222,
              "#7201a8"
             ],
             [
              0.3333333333333333,
              "#9c179e"
             ],
             [
              0.4444444444444444,
              "#bd3786"
             ],
             [
              0.5555555555555556,
              "#d8576b"
             ],
             [
              0.6666666666666666,
              "#ed7953"
             ],
             [
              0.7777777777777778,
              "#fb9f3a"
             ],
             [
              0.8888888888888888,
              "#fdca26"
             ],
             [
              1,
              "#f0f921"
             ]
            ],
            "type": "surface"
           }
          ],
          "table": [
           {
            "cells": {
             "fill": {
              "color": "#EBF0F8"
             },
             "line": {
              "color": "white"
             }
            },
            "header": {
             "fill": {
              "color": "#C8D4E3"
             },
             "line": {
              "color": "white"
             }
            },
            "type": "table"
           }
          ]
         },
         "layout": {
          "annotationdefaults": {
           "arrowcolor": "#2a3f5f",
           "arrowhead": 0,
           "arrowwidth": 1
          },
          "autotypenumbers": "strict",
          "coloraxis": {
           "colorbar": {
            "outlinewidth": 0,
            "ticks": ""
           }
          },
          "colorscale": {
           "diverging": [
            [
             0,
             "#8e0152"
            ],
            [
             0.1,
             "#c51b7d"
            ],
            [
             0.2,
             "#de77ae"
            ],
            [
             0.3,
             "#f1b6da"
            ],
            [
             0.4,
             "#fde0ef"
            ],
            [
             0.5,
             "#f7f7f7"
            ],
            [
             0.6,
             "#e6f5d0"
            ],
            [
             0.7,
             "#b8e186"
            ],
            [
             0.8,
             "#7fbc41"
            ],
            [
             0.9,
             "#4d9221"
            ],
            [
             1,
             "#276419"
            ]
           ],
           "sequential": [
            [
             0,
             "#0d0887"
            ],
            [
             0.1111111111111111,
             "#46039f"
            ],
            [
             0.2222222222222222,
             "#7201a8"
            ],
            [
             0.3333333333333333,
             "#9c179e"
            ],
            [
             0.4444444444444444,
             "#bd3786"
            ],
            [
             0.5555555555555556,
             "#d8576b"
            ],
            [
             0.6666666666666666,
             "#ed7953"
            ],
            [
             0.7777777777777778,
             "#fb9f3a"
            ],
            [
             0.8888888888888888,
             "#fdca26"
            ],
            [
             1,
             "#f0f921"
            ]
           ],
           "sequentialminus": [
            [
             0,
             "#0d0887"
            ],
            [
             0.1111111111111111,
             "#46039f"
            ],
            [
             0.2222222222222222,
             "#7201a8"
            ],
            [
             0.3333333333333333,
             "#9c179e"
            ],
            [
             0.4444444444444444,
             "#bd3786"
            ],
            [
             0.5555555555555556,
             "#d8576b"
            ],
            [
             0.6666666666666666,
             "#ed7953"
            ],
            [
             0.7777777777777778,
             "#fb9f3a"
            ],
            [
             0.8888888888888888,
             "#fdca26"
            ],
            [
             1,
             "#f0f921"
            ]
           ]
          },
          "colorway": [
           "#636efa",
           "#EF553B",
           "#00cc96",
           "#ab63fa",
           "#FFA15A",
           "#19d3f3",
           "#FF6692",
           "#B6E880",
           "#FF97FF",
           "#FECB52"
          ],
          "font": {
           "color": "#2a3f5f"
          },
          "geo": {
           "bgcolor": "white",
           "lakecolor": "white",
           "landcolor": "#E5ECF6",
           "showlakes": true,
           "showland": true,
           "subunitcolor": "white"
          },
          "hoverlabel": {
           "align": "left"
          },
          "hovermode": "closest",
          "mapbox": {
           "style": "light"
          },
          "paper_bgcolor": "white",
          "plot_bgcolor": "#E5ECF6",
          "polar": {
           "angularaxis": {
            "gridcolor": "white",
            "linecolor": "white",
            "ticks": ""
           },
           "bgcolor": "#E5ECF6",
           "radialaxis": {
            "gridcolor": "white",
            "linecolor": "white",
            "ticks": ""
           }
          },
          "scene": {
           "xaxis": {
            "backgroundcolor": "#E5ECF6",
            "gridcolor": "white",
            "gridwidth": 2,
            "linecolor": "white",
            "showbackground": true,
            "ticks": "",
            "zerolinecolor": "white"
           },
           "yaxis": {
            "backgroundcolor": "#E5ECF6",
            "gridcolor": "white",
            "gridwidth": 2,
            "linecolor": "white",
            "showbackground": true,
            "ticks": "",
            "zerolinecolor": "white"
           },
           "zaxis": {
            "backgroundcolor": "#E5ECF6",
            "gridcolor": "white",
            "gridwidth": 2,
            "linecolor": "white",
            "showbackground": true,
            "ticks": "",
            "zerolinecolor": "white"
           }
          },
          "shapedefaults": {
           "line": {
            "color": "#2a3f5f"
           }
          },
          "ternary": {
           "aaxis": {
            "gridcolor": "white",
            "linecolor": "white",
            "ticks": ""
           },
           "baxis": {
            "gridcolor": "white",
            "linecolor": "white",
            "ticks": ""
           },
           "bgcolor": "#E5ECF6",
           "caxis": {
            "gridcolor": "white",
            "linecolor": "white",
            "ticks": ""
           }
          },
          "title": {
           "x": 0.05
          },
          "xaxis": {
           "automargin": true,
           "gridcolor": "white",
           "linecolor": "white",
           "ticks": "",
           "title": {
            "standoff": 15
           },
           "zerolinecolor": "white",
           "zerolinewidth": 2
          },
          "yaxis": {
           "automargin": true,
           "gridcolor": "white",
           "linecolor": "white",
           "ticks": "",
           "title": {
            "standoff": 15
           },
           "zerolinecolor": "white",
           "zerolinewidth": 2
          }
         }
        },
        "title": {
         "text": "ROC Curve"
        },
        "width": 1000,
        "xaxis": {
         "anchor": "y",
         "domain": [
          0,
          1
         ],
         "title": {
          "text": "False Positive Rate"
         }
        },
        "yaxis": {
         "anchor": "x",
         "domain": [
          0,
          1
         ],
         "title": {
          "text": "True Positive Rate"
         }
        }
       }
      },
      "text/html": [
       "<div>                            <div id=\"68802acf-3202-4e60-a84e-ea93adeedc07\" class=\"plotly-graph-div\" style=\"height:800px; width:1000px;\"></div>            <script type=\"text/javascript\">                require([\"plotly\"], function(Plotly) {                    window.PLOTLYENV=window.PLOTLYENV || {};                                    if (document.getElementById(\"68802acf-3202-4e60-a84e-ea93adeedc07\")) {                    Plotly.newPlot(                        \"68802acf-3202-4e60-a84e-ea93adeedc07\",                        [{\"hovertemplate\":\"x=%{x}<br>y=%{y}<extra></extra>\",\"legendgroup\":\"\",\"line\":{\"color\":\"#636efa\",\"dash\":\"solid\"},\"marker\":{\"symbol\":\"circle\"},\"mode\":\"lines\",\"name\":\"\",\"orientation\":\"v\",\"showlegend\":false,\"type\":\"scatter\",\"x\":[0.0,0.0,0.0025906735751295338,0.0025906735751295338,0.010362694300518135,0.010362694300518135,0.018134715025906734,0.018134715025906734,0.02849740932642487,0.02849740932642487,0.07772020725388601,0.07772020725388601,0.08808290155440414,0.08808290155440414,0.09326424870466321,0.09326424870466321,0.10880829015544041,0.10880829015544041,0.11398963730569948,0.11398963730569948,0.11658031088082901,0.11658031088082901,0.12694300518134716,0.12694300518134716,0.14507772020725387,0.14507772020725387,0.16321243523316062,0.16321243523316062,0.18393782383419688,0.18393782383419688,0.19689119170984457,0.19689119170984457,0.20466321243523317,0.20466321243523317,0.20725388601036268,0.20725388601036268,0.2772020725388601,0.2772020725388601,0.2927461139896373,0.2927461139896373,0.33419689119170987,0.33419689119170987,0.34196891191709844,0.34196891191709844,0.35751295336787564,0.35751295336787564,0.422279792746114,0.422279792746114,0.4792746113989637,0.4792746113989637,0.5518134715025906,0.5518134715025906,0.6243523316062176,0.6243523316062176,0.7046632124352331,0.7046632124352331,0.8160621761658031,0.8160621761658031,0.9637305699481865,0.9637305699481865,1.0],\"xaxis\":\"x\",\"y\":[0.0,0.03333333333333333,0.03333333333333333,0.06666666666666667,0.06666666666666667,0.1,0.1,0.13333333333333333,0.13333333333333333,0.16666666666666666,0.16666666666666666,0.2,0.2,0.23333333333333334,0.23333333333333334,0.26666666666666666,0.26666666666666666,0.3,0.3,0.3333333333333333,0.3333333333333333,0.36666666666666664,0.36666666666666664,0.4,0.4,0.43333333333333335,0.43333333333333335,0.4666666666666667,0.4666666666666667,0.5,0.5,0.5333333333333333,0.5333333333333333,0.5666666666666667,0.5666666666666667,0.6,0.6,0.6333333333333333,0.6333333333333333,0.6666666666666666,0.6666666666666666,0.7,0.7,0.7333333333333333,0.7333333333333333,0.7666666666666667,0.7666666666666667,0.8,0.8,0.8333333333333334,0.8333333333333334,0.8666666666666667,0.8666666666666667,0.9,0.9,0.9333333333333333,0.9333333333333333,0.9666666666666667,0.9666666666666667,1.0,1.0],\"yaxis\":\"y\"}],                        {\"annotations\":[{\"font\":{\"size\":18},\"showarrow\":false,\"text\":\"AUC = 0.7316062176165804\",\"x\":0.77,\"y\":0.016}],\"height\":800,\"legend\":{\"tracegroupgap\":0},\"template\":{\"data\":{\"bar\":[{\"error_x\":{\"color\":\"#2a3f5f\"},\"error_y\":{\"color\":\"#2a3f5f\"},\"marker\":{\"line\":{\"color\":\"#E5ECF6\",\"width\":0.5},\"pattern\":{\"fillmode\":\"overlay\",\"size\":10,\"solidity\":0.2}},\"type\":\"bar\"}],\"barpolar\":[{\"marker\":{\"line\":{\"color\":\"#E5ECF6\",\"width\":0.5},\"pattern\":{\"fillmode\":\"overlay\",\"size\":10,\"solidity\":0.2}},\"type\":\"barpolar\"}],\"carpet\":[{\"aaxis\":{\"endlinecolor\":\"#2a3f5f\",\"gridcolor\":\"white\",\"linecolor\":\"white\",\"minorgridcolor\":\"white\",\"startlinecolor\":\"#2a3f5f\"},\"baxis\":{\"endlinecolor\":\"#2a3f5f\",\"gridcolor\":\"white\",\"linecolor\":\"white\",\"minorgridcolor\":\"white\",\"startlinecolor\":\"#2a3f5f\"},\"type\":\"carpet\"}],\"choropleth\":[{\"colorbar\":{\"outlinewidth\":0,\"ticks\":\"\"},\"type\":\"choropleth\"}],\"contour\":[{\"colorbar\":{\"outlinewidth\":0,\"ticks\":\"\"},\"colorscale\":[[0.0,\"#0d0887\"],[0.1111111111111111,\"#46039f\"],[0.2222222222222222,\"#7201a8\"],[0.3333333333333333,\"#9c179e\"],[0.4444444444444444,\"#bd3786\"],[0.5555555555555556,\"#d8576b\"],[0.6666666666666666,\"#ed7953\"],[0.7777777777777778,\"#fb9f3a\"],[0.8888888888888888,\"#fdca26\"],[1.0,\"#f0f921\"]],\"type\":\"contour\"}],\"contourcarpet\":[{\"colorbar\":{\"outlinewidth\":0,\"ticks\":\"\"},\"type\":\"contourcarpet\"}],\"heatmap\":[{\"colorbar\":{\"outlinewidth\":0,\"ticks\":\"\"},\"colorscale\":[[0.0,\"#0d0887\"],[0.1111111111111111,\"#46039f\"],[0.2222222222222222,\"#7201a8\"],[0.3333333333333333,\"#9c179e\"],[0.4444444444444444,\"#bd3786\"],[0.5555555555555556,\"#d8576b\"],[0.6666666666666666,\"#ed7953\"],[0.7777777777777778,\"#fb9f3a\"],[0.8888888888888888,\"#fdca26\"],[1.0,\"#f0f921\"]],\"type\":\"heatmap\"}],\"heatmapgl\":[{\"colorbar\":{\"outlinewidth\":0,\"ticks\":\"\"},\"colorscale\":[[0.0,\"#0d0887\"],[0.1111111111111111,\"#46039f\"],[0.2222222222222222,\"#7201a8\"],[0.3333333333333333,\"#9c179e\"],[0.4444444444444444,\"#bd3786\"],[0.5555555555555556,\"#d8576b\"],[0.6666666666666666,\"#ed7953\"],[0.7777777777777778,\"#fb9f3a\"],[0.8888888888888888,\"#fdca26\"],[1.0,\"#f0f921\"]],\"type\":\"heatmapgl\"}],\"histogram\":[{\"marker\":{\"pattern\":{\"fillmode\":\"overlay\",\"size\":10,\"solidity\":0.2}},\"type\":\"histogram\"}],\"histogram2d\":[{\"colorbar\":{\"outlinewidth\":0,\"ticks\":\"\"},\"colorscale\":[[0.0,\"#0d0887\"],[0.1111111111111111,\"#46039f\"],[0.2222222222222222,\"#7201a8\"],[0.3333333333333333,\"#9c179e\"],[0.4444444444444444,\"#bd3786\"],[0.5555555555555556,\"#d8576b\"],[0.6666666666666666,\"#ed7953\"],[0.7777777777777778,\"#fb9f3a\"],[0.8888888888888888,\"#fdca26\"],[1.0,\"#f0f921\"]],\"type\":\"histogram2d\"}],\"histogram2dcontour\":[{\"colorbar\":{\"outlinewidth\":0,\"ticks\":\"\"},\"colorscale\":[[0.0,\"#0d0887\"],[0.1111111111111111,\"#46039f\"],[0.2222222222222222,\"#7201a8\"],[0.3333333333333333,\"#9c179e\"],[0.4444444444444444,\"#bd3786\"],[0.5555555555555556,\"#d8576b\"],[0.6666666666666666,\"#ed7953\"],[0.7777777777777778,\"#fb9f3a\"],[0.8888888888888888,\"#fdca26\"],[1.0,\"#f0f921\"]],\"type\":\"histogram2dcontour\"}],\"mesh3d\":[{\"colorbar\":{\"outlinewidth\":0,\"ticks\":\"\"},\"type\":\"mesh3d\"}],\"parcoords\":[{\"line\":{\"colorbar\":{\"outlinewidth\":0,\"ticks\":\"\"}},\"type\":\"parcoords\"}],\"pie\":[{\"automargin\":true,\"type\":\"pie\"}],\"scatter\":[{\"marker\":{\"colorbar\":{\"outlinewidth\":0,\"ticks\":\"\"}},\"type\":\"scatter\"}],\"scatter3d\":[{\"line\":{\"colorbar\":{\"outlinewidth\":0,\"ticks\":\"\"}},\"marker\":{\"colorbar\":{\"outlinewidth\":0,\"ticks\":\"\"}},\"type\":\"scatter3d\"}],\"scattercarpet\":[{\"marker\":{\"colorbar\":{\"outlinewidth\":0,\"ticks\":\"\"}},\"type\":\"scattercarpet\"}],\"scattergeo\":[{\"marker\":{\"colorbar\":{\"outlinewidth\":0,\"ticks\":\"\"}},\"type\":\"scattergeo\"}],\"scattergl\":[{\"marker\":{\"colorbar\":{\"outlinewidth\":0,\"ticks\":\"\"}},\"type\":\"scattergl\"}],\"scattermapbox\":[{\"marker\":{\"colorbar\":{\"outlinewidth\":0,\"ticks\":\"\"}},\"type\":\"scattermapbox\"}],\"scatterpolar\":[{\"marker\":{\"colorbar\":{\"outlinewidth\":0,\"ticks\":\"\"}},\"type\":\"scatterpolar\"}],\"scatterpolargl\":[{\"marker\":{\"colorbar\":{\"outlinewidth\":0,\"ticks\":\"\"}},\"type\":\"scatterpolargl\"}],\"scatterternary\":[{\"marker\":{\"colorbar\":{\"outlinewidth\":0,\"ticks\":\"\"}},\"type\":\"scatterternary\"}],\"surface\":[{\"colorbar\":{\"outlinewidth\":0,\"ticks\":\"\"},\"colorscale\":[[0.0,\"#0d0887\"],[0.1111111111111111,\"#46039f\"],[0.2222222222222222,\"#7201a8\"],[0.3333333333333333,\"#9c179e\"],[0.4444444444444444,\"#bd3786\"],[0.5555555555555556,\"#d8576b\"],[0.6666666666666666,\"#ed7953\"],[0.7777777777777778,\"#fb9f3a\"],[0.8888888888888888,\"#fdca26\"],[1.0,\"#f0f921\"]],\"type\":\"surface\"}],\"table\":[{\"cells\":{\"fill\":{\"color\":\"#EBF0F8\"},\"line\":{\"color\":\"white\"}},\"header\":{\"fill\":{\"color\":\"#C8D4E3\"},\"line\":{\"color\":\"white\"}},\"type\":\"table\"}]},\"layout\":{\"annotationdefaults\":{\"arrowcolor\":\"#2a3f5f\",\"arrowhead\":0,\"arrowwidth\":1},\"autotypenumbers\":\"strict\",\"coloraxis\":{\"colorbar\":{\"outlinewidth\":0,\"ticks\":\"\"}},\"colorscale\":{\"diverging\":[[0,\"#8e0152\"],[0.1,\"#c51b7d\"],[0.2,\"#de77ae\"],[0.3,\"#f1b6da\"],[0.4,\"#fde0ef\"],[0.5,\"#f7f7f7\"],[0.6,\"#e6f5d0\"],[0.7,\"#b8e186\"],[0.8,\"#7fbc41\"],[0.9,\"#4d9221\"],[1,\"#276419\"]],\"sequential\":[[0.0,\"#0d0887\"],[0.1111111111111111,\"#46039f\"],[0.2222222222222222,\"#7201a8\"],[0.3333333333333333,\"#9c179e\"],[0.4444444444444444,\"#bd3786\"],[0.5555555555555556,\"#d8576b\"],[0.6666666666666666,\"#ed7953\"],[0.7777777777777778,\"#fb9f3a\"],[0.8888888888888888,\"#fdca26\"],[1.0,\"#f0f921\"]],\"sequentialminus\":[[0.0,\"#0d0887\"],[0.1111111111111111,\"#46039f\"],[0.2222222222222222,\"#7201a8\"],[0.3333333333333333,\"#9c179e\"],[0.4444444444444444,\"#bd3786\"],[0.5555555555555556,\"#d8576b\"],[0.6666666666666666,\"#ed7953\"],[0.7777777777777778,\"#fb9f3a\"],[0.8888888888888888,\"#fdca26\"],[1.0,\"#f0f921\"]]},\"colorway\":[\"#636efa\",\"#EF553B\",\"#00cc96\",\"#ab63fa\",\"#FFA15A\",\"#19d3f3\",\"#FF6692\",\"#B6E880\",\"#FF97FF\",\"#FECB52\"],\"font\":{\"color\":\"#2a3f5f\"},\"geo\":{\"bgcolor\":\"white\",\"lakecolor\":\"white\",\"landcolor\":\"#E5ECF6\",\"showlakes\":true,\"showland\":true,\"subunitcolor\":\"white\"},\"hoverlabel\":{\"align\":\"left\"},\"hovermode\":\"closest\",\"mapbox\":{\"style\":\"light\"},\"paper_bgcolor\":\"white\",\"plot_bgcolor\":\"#E5ECF6\",\"polar\":{\"angularaxis\":{\"gridcolor\":\"white\",\"linecolor\":\"white\",\"ticks\":\"\"},\"bgcolor\":\"#E5ECF6\",\"radialaxis\":{\"gridcolor\":\"white\",\"linecolor\":\"white\",\"ticks\":\"\"}},\"scene\":{\"xaxis\":{\"backgroundcolor\":\"#E5ECF6\",\"gridcolor\":\"white\",\"gridwidth\":2,\"linecolor\":\"white\",\"showbackground\":true,\"ticks\":\"\",\"zerolinecolor\":\"white\"},\"yaxis\":{\"backgroundcolor\":\"#E5ECF6\",\"gridcolor\":\"white\",\"gridwidth\":2,\"linecolor\":\"white\",\"showbackground\":true,\"ticks\":\"\",\"zerolinecolor\":\"white\"},\"zaxis\":{\"backgroundcolor\":\"#E5ECF6\",\"gridcolor\":\"white\",\"gridwidth\":2,\"linecolor\":\"white\",\"showbackground\":true,\"ticks\":\"\",\"zerolinecolor\":\"white\"}},\"shapedefaults\":{\"line\":{\"color\":\"#2a3f5f\"}},\"ternary\":{\"aaxis\":{\"gridcolor\":\"white\",\"linecolor\":\"white\",\"ticks\":\"\"},\"baxis\":{\"gridcolor\":\"white\",\"linecolor\":\"white\",\"ticks\":\"\"},\"bgcolor\":\"#E5ECF6\",\"caxis\":{\"gridcolor\":\"white\",\"linecolor\":\"white\",\"ticks\":\"\"}},\"title\":{\"x\":0.05},\"xaxis\":{\"automargin\":true,\"gridcolor\":\"white\",\"linecolor\":\"white\",\"ticks\":\"\",\"title\":{\"standoff\":15},\"zerolinecolor\":\"white\",\"zerolinewidth\":2},\"yaxis\":{\"automargin\":true,\"gridcolor\":\"white\",\"linecolor\":\"white\",\"ticks\":\"\",\"title\":{\"standoff\":15},\"zerolinecolor\":\"white\",\"zerolinewidth\":2}}},\"title\":{\"text\":\"ROC Curve\"},\"width\":1000,\"xaxis\":{\"anchor\":\"y\",\"domain\":[0.0,1.0],\"title\":{\"text\":\"False Positive Rate\"}},\"yaxis\":{\"anchor\":\"x\",\"domain\":[0.0,1.0],\"title\":{\"text\":\"True Positive Rate\"}}},                        {\"responsive\": true}                    ).then(function(){\n",
       "                            \n",
       "var gd = document.getElementById('68802acf-3202-4e60-a84e-ea93adeedc07');\n",
       "var x = new MutationObserver(function (mutations, observer) {{\n",
       "        var display = window.getComputedStyle(gd).display;\n",
       "        if (!display || display === 'none') {{\n",
       "            console.log([gd, 'removed!']);\n",
       "            Plotly.purge(gd);\n",
       "            observer.disconnect();\n",
       "        }}\n",
       "}});\n",
       "\n",
       "// Listen for the removal of the full notebook cells\n",
       "var notebookContainer = gd.closest('#notebook-container');\n",
       "if (notebookContainer) {{\n",
       "    x.observe(notebookContainer, {childList: true});\n",
       "}}\n",
       "\n",
       "// Listen for the clearing of the current output cell\n",
       "var outputEl = gd.closest('.output');\n",
       "if (outputEl) {{\n",
       "    x.observe(outputEl, {childList: true});\n",
       "}}\n",
       "\n",
       "                        })                };                });            </script>        </div>"
      ]
     },
     "metadata": {},
     "output_type": "display_data"
    }
   ],
   "source": [
    "pred_prob = model.predict(test_X)\n",
    "\n",
    "fpr, tpr, proba = roc_curve(test_Y, pred_prob)\n",
    "\n",
    "fig = px.line(x=fpr, y=tpr, title=f\"AUC = {roc_auc_score(test_Y, pred_prob)}\")\n",
    "fig.update_layout(xaxis_title = \"False Positive Rate\", yaxis_title =\"True Positive Rate\", title = \"ROC Curve\", width = 1000, \n",
    "                  height = 800)\n",
    "fig.add_annotation(x=0.77, y=0.016,\n",
    "            text=f\"AUC = {roc_auc_score(test_Y, pred_prob)}\",\n",
    "                               showarrow=False,\n",
    "    font=dict(\n",
    "            size=18,\n",
    "            )\n",
    "        )\n",
    "\n",
    "fig.show()"
   ]
  },
  {
   "cell_type": "code",
   "execution_count": 62,
   "id": "741720a1",
   "metadata": {},
   "outputs": [
    {
     "data": {
      "text/plain": [
       "0.06407859132153843"
      ]
     },
     "execution_count": 62,
     "metadata": {},
     "output_type": "execute_result"
    }
   ],
   "source": [
    "optimal_proba_cutoff = sorted(list(zip(np.abs(tpr - fpr), proba)), key=lambda i: i[0], reverse=True)[0][1]\n",
    "optimal_proba_cutoff"
   ]
  },
  {
   "cell_type": "code",
   "execution_count": 63,
   "id": "783277e2",
   "metadata": {},
   "outputs": [],
   "source": [
    "pred = [1 if x == True else 0 for x in model.predict(test_X) > 0.06407859132153843]"
   ]
  },
  {
   "cell_type": "code",
   "execution_count": 64,
   "id": "ee9cd7bc",
   "metadata": {},
   "outputs": [
    {
     "name": "stdout",
     "output_type": "stream",
     "text": [
      "[[248 138]\n",
      " [  8  22]]\n",
      "Model TPR: 0.7333333333333333\n",
      "Model FPR: 0.35751295336787564\n",
      "Model F1: 0.23157894736842105\n",
      "Model Precision: 0.1375\n",
      "Model Accuracy: 0.6490384615384616\n"
     ]
    }
   ],
   "source": [
    "acc_t_3, TPR_t_3, FPR_t_3 ,f1_t_3, prec_t_3 = showmetrics(pred, test_Y)"
   ]
  },
  {
   "cell_type": "code",
   "execution_count": null,
   "id": "97fced02",
   "metadata": {},
   "outputs": [],
   "source": []
  },
  {
   "cell_type": "code",
   "execution_count": 65,
   "id": "21ddd280",
   "metadata": {},
   "outputs": [],
   "source": [
    "pred = [1 if x == True else 0 for x in model.predict(test_X) > 0.08]"
   ]
  },
  {
   "cell_type": "code",
   "execution_count": 66,
   "id": "5af5a449",
   "metadata": {},
   "outputs": [
    {
     "name": "stdout",
     "output_type": "stream",
     "text": [
      "[[274 112]\n",
      " [ 11  19]]\n",
      "Model TPR: 0.6333333333333333\n",
      "Model FPR: 0.29015544041450775\n",
      "Model F1: 0.23602484472049687\n",
      "Model Precision: 0.1450381679389313\n",
      "Model Accuracy: 0.7043269230769231\n"
     ]
    }
   ],
   "source": [
    "acc_t_4, TPR_t_4, FPR_t_4 ,f1_t_4, prec_t_4 = showmetrics(pred, test_Y)"
   ]
  },
  {
   "cell_type": "code",
   "execution_count": 67,
   "id": "7af58e4b",
   "metadata": {},
   "outputs": [],
   "source": [
    "pred = [1 if x == True else 0 for x in model.predict(test_X) > 0.2]"
   ]
  },
  {
   "cell_type": "code",
   "execution_count": 68,
   "id": "d298be5a",
   "metadata": {},
   "outputs": [
    {
     "name": "stdout",
     "output_type": "stream",
     "text": [
      "[[352  34]\n",
      " [ 24   6]]\n",
      "Model TPR: 0.2\n",
      "Model FPR: 0.08808290155440414\n",
      "Model F1: 0.17142857142857143\n",
      "Model Precision: 0.15\n",
      "Model Accuracy: 0.8605769230769231\n"
     ]
    }
   ],
   "source": [
    "acc_t_5, TPR_t_5, FPR_t_5 ,f1_t_5, prec_t_5 = showmetrics(pred, test_Y)"
   ]
  },
  {
   "cell_type": "markdown",
   "id": "69e3fab2",
   "metadata": {},
   "source": [
    "## Summary Table"
   ]
  },
  {
   "cell_type": "code",
   "execution_count": 69,
   "id": "b370ebdf",
   "metadata": {},
   "outputs": [],
   "source": [
    "index = [\"F1\", \"TPR\", \"FPR\",  \"Precision\", \"Accuracy\"]\n",
    "columns = [\"Baseline\", \"T = 0.5\", \"T = 0.2\",\"T = 0.1\", \"T = 0.08\", \"T = 0.064\"]\n",
    "tpr = [0, TPR_t_1, TPR_t_5, TPR_t_2, TPR_t_4, TPR_t_3]\n",
    "fpr = [0, FPR_t_1, TPR_t_5, FPR_t_2, FPR_t_4, FPR_t_3]\n",
    "f1 = [\"n/a\", f1_t_1, f1_t_5, f1_t_2, f1_t_4, f1_t_3]\n",
    "prec = [\"n/a\", prec_t_1, prec_t_5, prec_t_2, prec_t_4, prec_t_3]\n",
    "acc = [.93, acc_t_1, acc_t_5, acc_t_2, acc_t_4, acc_t_3]\n",
    "rows = [f1, tpr, fpr, prec, acc]"
   ]
  },
  {
   "cell_type": "code",
   "execution_count": 70,
   "id": "d1fff050",
   "metadata": {},
   "outputs": [],
   "source": [
    "results = pd.DataFrame(rows, index = index, columns = columns)"
   ]
  },
  {
   "cell_type": "code",
   "execution_count": 71,
   "id": "361634ba",
   "metadata": {},
   "outputs": [
    {
     "data": {
      "text/html": [
       "<div>\n",
       "<style scoped>\n",
       "    .dataframe tbody tr th:only-of-type {\n",
       "        vertical-align: middle;\n",
       "    }\n",
       "\n",
       "    .dataframe tbody tr th {\n",
       "        vertical-align: top;\n",
       "    }\n",
       "\n",
       "    .dataframe thead th {\n",
       "        text-align: right;\n",
       "    }\n",
       "</style>\n",
       "<table border=\"1\" class=\"dataframe\">\n",
       "  <thead>\n",
       "    <tr style=\"text-align: right;\">\n",
       "      <th></th>\n",
       "      <th>Baseline</th>\n",
       "      <th>T = 0.5</th>\n",
       "      <th>T = 0.2</th>\n",
       "      <th>T = 0.1</th>\n",
       "      <th>T = 0.08</th>\n",
       "      <th>T = 0.064</th>\n",
       "    </tr>\n",
       "  </thead>\n",
       "  <tbody>\n",
       "    <tr>\n",
       "      <th>F1</th>\n",
       "      <td>n/a</td>\n",
       "      <td>0.117647</td>\n",
       "      <td>0.171429</td>\n",
       "      <td>0.260870</td>\n",
       "      <td>0.236025</td>\n",
       "      <td>0.231579</td>\n",
       "    </tr>\n",
       "    <tr>\n",
       "      <th>TPR</th>\n",
       "      <td>0</td>\n",
       "      <td>0.066667</td>\n",
       "      <td>0.200000</td>\n",
       "      <td>0.600000</td>\n",
       "      <td>0.633333</td>\n",
       "      <td>0.733333</td>\n",
       "    </tr>\n",
       "    <tr>\n",
       "      <th>FPR</th>\n",
       "      <td>0</td>\n",
       "      <td>0.005181</td>\n",
       "      <td>0.200000</td>\n",
       "      <td>0.233161</td>\n",
       "      <td>0.290155</td>\n",
       "      <td>0.357513</td>\n",
       "    </tr>\n",
       "    <tr>\n",
       "      <th>Precision</th>\n",
       "      <td>n/a</td>\n",
       "      <td>0.500000</td>\n",
       "      <td>0.150000</td>\n",
       "      <td>0.166667</td>\n",
       "      <td>0.145038</td>\n",
       "      <td>0.137500</td>\n",
       "    </tr>\n",
       "    <tr>\n",
       "      <th>Accuracy</th>\n",
       "      <td>0.93</td>\n",
       "      <td>0.927885</td>\n",
       "      <td>0.860577</td>\n",
       "      <td>0.754808</td>\n",
       "      <td>0.704327</td>\n",
       "      <td>0.649038</td>\n",
       "    </tr>\n",
       "  </tbody>\n",
       "</table>\n",
       "</div>"
      ],
      "text/plain": [
       "          Baseline   T = 0.5   T = 0.2   T = 0.1  T = 0.08  T = 0.064\n",
       "F1             n/a  0.117647  0.171429  0.260870  0.236025   0.231579\n",
       "TPR              0  0.066667  0.200000  0.600000  0.633333   0.733333\n",
       "FPR              0  0.005181  0.200000  0.233161  0.290155   0.357513\n",
       "Precision      n/a  0.500000  0.150000  0.166667  0.145038   0.137500\n",
       "Accuracy      0.93  0.927885  0.860577  0.754808  0.704327   0.649038"
      ]
     },
     "execution_count": 71,
     "metadata": {},
     "output_type": "execute_result"
    }
   ],
   "source": [
    "results"
   ]
  },
  {
   "cell_type": "code",
   "execution_count": 72,
   "id": "863ca463",
   "metadata": {},
   "outputs": [],
   "source": [
    "results.to_csv(\"LogisticRegressionResults.csv\")"
   ]
  },
  {
   "cell_type": "code",
   "execution_count": null,
   "id": "e14a5a38",
   "metadata": {},
   "outputs": [],
   "source": []
  }
 ],
 "metadata": {
  "kernelspec": {
   "display_name": "Python 3 (ipykernel)",
   "language": "python",
   "name": "python3"
  },
  "language_info": {
   "codemirror_mode": {
    "name": "ipython",
    "version": 3
   },
   "file_extension": ".py",
   "mimetype": "text/x-python",
   "name": "python",
   "nbconvert_exporter": "python",
   "pygments_lexer": "ipython3",
   "version": "3.9.15"
  }
 },
 "nbformat": 4,
 "nbformat_minor": 5
}
